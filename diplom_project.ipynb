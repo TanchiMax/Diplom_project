{
 "cells": [
  {
   "cell_type": "markdown",
   "metadata": {},
   "source": [
    "## <center> Итоговый проект: Модель прогнозирования стоимости жилья для агентства недвижимости"
   ]
  },
  {
   "cell_type": "markdown",
   "metadata": {},
   "source": [
    "## 1. Постановка задачи"
   ]
  },
  {
   "cell_type": "markdown",
   "metadata": {},
   "source": [
    "Агентство недвижимости столкнулось с проблемой — риелторы тратят слишком много времени на сортировку объявлений и поиск выгодных предложений. Поэтому скорость их реакции и качество анализа не дотягивают до уровня конкурентов. Это сказывается на финансовых показателях агентства.\n",
    "\n",
    "**Задача:** разработать модель, которая позволила бы агентству недвижимости обойти конкурентов по скорости и качеству совершения сделок.\n",
    "\n",
    "**Основные цели проекта:**\n",
    "1. Провести разведывательный анализ и очистку исходных данных.\n",
    "2. Выделить наиболее значимые факторы, влияющие на стоимость недвижимости.\n",
    "3. Построить модель для прогнозирования стоимости недвижимости.\n",
    "4. Разработать небольшой веб-сервис, на вход которому поступают данные о некоторой выставленной на продажу недвижимости, а сервис прогнозирует его стоимость."
   ]
  },
  {
   "cell_type": "markdown",
   "metadata": {},
   "source": [
    "## 2. Знакомство с данными и базовый анализ"
   ]
  },
  {
   "cell_type": "code",
   "execution_count": 1,
   "metadata": {},
   "outputs": [],
   "source": [
    "#импорт библиотек и модулей\n",
    "\n",
    "import pandas as pd\n",
    "import numpy as np\n",
    "import matplotlib.pyplot as plt\n",
    "import seaborn as sns\n",
    "from mpl_toolkits.mplot3d import Axes3D\n",
    "\n",
    "import category_encoders as ce # для бинарного кодирования\n",
    "\n",
    "import plotly.graph_objs as go\n",
    "import plotly.express as px\n",
    "from plotly.subplots import make_subplots\n",
    "\n",
    "from sklearn.ensemble import RandomForestRegressor\n",
    "from sklearn.preprocessing import StandardScaler\n",
    "from sklearn import linear_model #линейные модели\n",
    "from sklearn.metrics import r2_score\n",
    "from sklearn.model_selection import train_test_split\n",
    "from sklearn import mixture\n",
    "from sklearn import manifold\n",
    "from sklearn import pipeline\n",
    "from sklearn import preprocessing\n",
    "from sklearn import cluster\n",
    "from sklearn import metrics\n",
    "from sklearn import model_selection\n",
    "from sklearn import decomposition\n",
    "from sklearn import ensemble\n",
    "from sklearn.ensemble import IsolationForest\n",
    "from sklearn import preprocessing #предобработка\n",
    "import warnings \n",
    "\n",
    "from IPython.display import display, HTML\n",
    "\n",
    "warnings.filterwarnings(\"ignore\")\n",
    "\n",
    "plt.rcParams[\"patch.force_edgecolor\"] = True"
   ]
  },
  {
   "cell_type": "code",
   "execution_count": 2,
   "metadata": {},
   "outputs": [
    {
     "data": {
      "text/plain": [
       "'Shape of data: (377185, 18)'"
      ]
     },
     "metadata": {},
     "output_type": "display_data"
    },
    {
     "data": {
      "text/html": [
       "<div>\n",
       "<style scoped>\n",
       "    .dataframe tbody tr th:only-of-type {\n",
       "        vertical-align: middle;\n",
       "    }\n",
       "\n",
       "    .dataframe tbody tr th {\n",
       "        vertical-align: top;\n",
       "    }\n",
       "\n",
       "    .dataframe thead th {\n",
       "        text-align: right;\n",
       "    }\n",
       "</style>\n",
       "<table border=\"1\" class=\"dataframe\">\n",
       "  <thead>\n",
       "    <tr style=\"text-align: right;\">\n",
       "      <th></th>\n",
       "      <th>status</th>\n",
       "      <th>private pool</th>\n",
       "      <th>propertyType</th>\n",
       "      <th>street</th>\n",
       "      <th>baths</th>\n",
       "      <th>homeFacts</th>\n",
       "      <th>fireplace</th>\n",
       "      <th>city</th>\n",
       "      <th>schools</th>\n",
       "      <th>sqft</th>\n",
       "      <th>zipcode</th>\n",
       "      <th>beds</th>\n",
       "      <th>state</th>\n",
       "      <th>stories</th>\n",
       "      <th>mls-id</th>\n",
       "      <th>PrivatePool</th>\n",
       "      <th>MlsId</th>\n",
       "      <th>target</th>\n",
       "    </tr>\n",
       "  </thead>\n",
       "  <tbody>\n",
       "    <tr>\n",
       "      <th>0</th>\n",
       "      <td>Active</td>\n",
       "      <td>NaN</td>\n",
       "      <td>Single Family Home</td>\n",
       "      <td>240 Heather Ln</td>\n",
       "      <td>3.5</td>\n",
       "      <td>{'atAGlanceFacts': [{'factValue': '2019', 'fac...</td>\n",
       "      <td>Gas Logs</td>\n",
       "      <td>Southern Pines</td>\n",
       "      <td>[{'rating': ['4', '4', '7', 'NR', '4', '7', 'N...</td>\n",
       "      <td>2900</td>\n",
       "      <td>28387</td>\n",
       "      <td>4</td>\n",
       "      <td>NC</td>\n",
       "      <td>NaN</td>\n",
       "      <td>NaN</td>\n",
       "      <td>NaN</td>\n",
       "      <td>611019</td>\n",
       "      <td>$418,000</td>\n",
       "    </tr>\n",
       "    <tr>\n",
       "      <th>1</th>\n",
       "      <td>for sale</td>\n",
       "      <td>NaN</td>\n",
       "      <td>single-family home</td>\n",
       "      <td>12911 E Heroy Ave</td>\n",
       "      <td>3 Baths</td>\n",
       "      <td>{'atAGlanceFacts': [{'factValue': '2019', 'fac...</td>\n",
       "      <td>NaN</td>\n",
       "      <td>Spokane Valley</td>\n",
       "      <td>[{'rating': ['4/10', 'None/10', '4/10'], 'data...</td>\n",
       "      <td>1,947 sqft</td>\n",
       "      <td>99216</td>\n",
       "      <td>3 Beds</td>\n",
       "      <td>WA</td>\n",
       "      <td>2.0</td>\n",
       "      <td>NaN</td>\n",
       "      <td>NaN</td>\n",
       "      <td>201916904</td>\n",
       "      <td>$310,000</td>\n",
       "    </tr>\n",
       "    <tr>\n",
       "      <th>2</th>\n",
       "      <td>for sale</td>\n",
       "      <td>NaN</td>\n",
       "      <td>single-family home</td>\n",
       "      <td>2005 Westridge Rd</td>\n",
       "      <td>2 Baths</td>\n",
       "      <td>{'atAGlanceFacts': [{'factValue': '1961', 'fac...</td>\n",
       "      <td>yes</td>\n",
       "      <td>Los Angeles</td>\n",
       "      <td>[{'rating': ['8/10', '4/10', '8/10'], 'data': ...</td>\n",
       "      <td>3,000 sqft</td>\n",
       "      <td>90049</td>\n",
       "      <td>3 Beds</td>\n",
       "      <td>CA</td>\n",
       "      <td>1.0</td>\n",
       "      <td>NaN</td>\n",
       "      <td>yes</td>\n",
       "      <td>FR19221027</td>\n",
       "      <td>$2,895,000</td>\n",
       "    </tr>\n",
       "    <tr>\n",
       "      <th>3</th>\n",
       "      <td>for sale</td>\n",
       "      <td>NaN</td>\n",
       "      <td>single-family home</td>\n",
       "      <td>4311 Livingston Ave</td>\n",
       "      <td>8 Baths</td>\n",
       "      <td>{'atAGlanceFacts': [{'factValue': '2006', 'fac...</td>\n",
       "      <td>yes</td>\n",
       "      <td>Dallas</td>\n",
       "      <td>[{'rating': ['9/10', '9/10', '10/10', '9/10'],...</td>\n",
       "      <td>6,457 sqft</td>\n",
       "      <td>75205</td>\n",
       "      <td>5 Beds</td>\n",
       "      <td>TX</td>\n",
       "      <td>3.0</td>\n",
       "      <td>NaN</td>\n",
       "      <td>NaN</td>\n",
       "      <td>14191809</td>\n",
       "      <td>$2,395,000</td>\n",
       "    </tr>\n",
       "    <tr>\n",
       "      <th>4</th>\n",
       "      <td>for sale</td>\n",
       "      <td>NaN</td>\n",
       "      <td>lot/land</td>\n",
       "      <td>1524 Kiscoe St</td>\n",
       "      <td>NaN</td>\n",
       "      <td>{'atAGlanceFacts': [{'factValue': '', 'factLab...</td>\n",
       "      <td>NaN</td>\n",
       "      <td>Palm Bay</td>\n",
       "      <td>[{'rating': ['4/10', '5/10', '5/10'], 'data': ...</td>\n",
       "      <td>NaN</td>\n",
       "      <td>32908</td>\n",
       "      <td>NaN</td>\n",
       "      <td>FL</td>\n",
       "      <td>NaN</td>\n",
       "      <td>NaN</td>\n",
       "      <td>NaN</td>\n",
       "      <td>861745</td>\n",
       "      <td>$5,000</td>\n",
       "    </tr>\n",
       "  </tbody>\n",
       "</table>\n",
       "</div>"
      ],
      "text/plain": [
       "     status private pool        propertyType               street    baths   \n",
       "0    Active          NaN  Single Family Home       240 Heather Ln      3.5  \\\n",
       "1  for sale          NaN  single-family home    12911 E Heroy Ave  3 Baths   \n",
       "2  for sale          NaN  single-family home    2005 Westridge Rd  2 Baths   \n",
       "3  for sale          NaN  single-family home  4311 Livingston Ave  8 Baths   \n",
       "4  for sale          NaN            lot/land       1524 Kiscoe St      NaN   \n",
       "\n",
       "                                           homeFacts fireplace   \n",
       "0  {'atAGlanceFacts': [{'factValue': '2019', 'fac...  Gas Logs  \\\n",
       "1  {'atAGlanceFacts': [{'factValue': '2019', 'fac...       NaN   \n",
       "2  {'atAGlanceFacts': [{'factValue': '1961', 'fac...       yes   \n",
       "3  {'atAGlanceFacts': [{'factValue': '2006', 'fac...       yes   \n",
       "4  {'atAGlanceFacts': [{'factValue': '', 'factLab...       NaN   \n",
       "\n",
       "             city                                            schools   \n",
       "0  Southern Pines  [{'rating': ['4', '4', '7', 'NR', '4', '7', 'N...  \\\n",
       "1  Spokane Valley  [{'rating': ['4/10', 'None/10', '4/10'], 'data...   \n",
       "2     Los Angeles  [{'rating': ['8/10', '4/10', '8/10'], 'data': ...   \n",
       "3          Dallas  [{'rating': ['9/10', '9/10', '10/10', '9/10'],...   \n",
       "4        Palm Bay  [{'rating': ['4/10', '5/10', '5/10'], 'data': ...   \n",
       "\n",
       "         sqft zipcode    beds state stories mls-id PrivatePool       MlsId   \n",
       "0        2900   28387       4    NC     NaN    NaN         NaN      611019  \\\n",
       "1  1,947 sqft   99216  3 Beds    WA     2.0    NaN         NaN   201916904   \n",
       "2  3,000 sqft   90049  3 Beds    CA     1.0    NaN         yes  FR19221027   \n",
       "3  6,457 sqft   75205  5 Beds    TX     3.0    NaN         NaN    14191809   \n",
       "4         NaN   32908     NaN    FL     NaN    NaN         NaN      861745   \n",
       "\n",
       "       target  \n",
       "0    $418,000  \n",
       "1    $310,000  \n",
       "2  $2,895,000  \n",
       "3  $2,395,000  \n",
       "4      $5,000  "
      ]
     },
     "execution_count": 2,
     "metadata": {},
     "output_type": "execute_result"
    }
   ],
   "source": [
    "# прочитаем файл с исходными данными и выведем его размерность\n",
    "\n",
    "df = pd.read_csv('data.csv')\n",
    "\n",
    "display('Shape of data: {}'.format(df.shape))\n",
    "\n",
    "df.head()"
   ]
  },
  {
   "cell_type": "code",
   "execution_count": 3,
   "metadata": {},
   "outputs": [
    {
     "data": {
      "text/plain": [
       "'Shape of data: (377185, 18)'"
      ]
     },
     "metadata": {},
     "output_type": "display_data"
    },
    {
     "name": "stdout",
     "output_type": "stream",
     "text": [
      "<class 'pandas.core.frame.DataFrame'>\n",
      "RangeIndex: 377185 entries, 0 to 377184\n",
      "Data columns (total 18 columns):\n",
      " #   Column        Non-Null Count   Dtype \n",
      "---  ------        --------------   ----- \n",
      " 0   status        337267 non-null  object\n",
      " 1   private pool  4181 non-null    object\n",
      " 2   propertyType  342452 non-null  object\n",
      " 3   street        377183 non-null  object\n",
      " 4   baths         270847 non-null  object\n",
      " 5   homeFacts     377185 non-null  object\n",
      " 6   fireplace     103114 non-null  object\n",
      " 7   city          377151 non-null  object\n",
      " 8   schools       377185 non-null  object\n",
      " 9   sqft          336608 non-null  object\n",
      " 10  zipcode       377185 non-null  object\n",
      " 11  beds          285903 non-null  object\n",
      " 12  state         377185 non-null  object\n",
      " 13  stories       226469 non-null  object\n",
      " 14  mls-id        24942 non-null   object\n",
      " 15  PrivatePool   40311 non-null   object\n",
      " 16  MlsId         310305 non-null  object\n",
      " 17  target        374704 non-null  object\n",
      "dtypes: object(18)\n",
      "memory usage: 51.8+ MB\n"
     ]
    }
   ],
   "source": [
    "# сделаем копию для дальнейшей работы\n",
    "\n",
    "data = df.copy()\n",
    "\n",
    "display('Shape of data: {}'.format(data.shape))\n",
    "\n",
    "data.info()"
   ]
  },
  {
   "cell_type": "markdown",
   "metadata": {},
   "source": [
    "Пропуски в данных"
   ]
  },
  {
   "cell_type": "code",
   "execution_count": 4,
   "metadata": {},
   "outputs": [
    {
     "data": {
      "text/plain": [
       "private pool    98.891525\n",
       "mls-id          93.387330\n",
       "PrivatePool     89.312672\n",
       "fireplace       72.662221\n",
       "stories         39.958111\n",
       "baths           28.192532\n",
       "beds            24.200856\n",
       "MlsId           17.731352\n",
       "sqft            10.757851\n",
       "status          10.583136\n",
       "propertyType     9.208479\n",
       "target           0.657767\n",
       "city             0.009014\n",
       "street           0.000530\n",
       "zipcode          0.000000\n",
       "schools          0.000000\n",
       "state            0.000000\n",
       "homeFacts        0.000000\n",
       "dtype: float64"
      ]
     },
     "execution_count": 4,
     "metadata": {},
     "output_type": "execute_result"
    }
   ],
   "source": [
    "# выведем долю пропусков в столбцах\n",
    "    \n",
    "(data.isnull().mean()*100).sort_values(ascending=False)"
   ]
  },
  {
   "cell_type": "code",
   "execution_count": 5,
   "metadata": {},
   "outputs": [
    {
     "data": {
      "image/png": "[encoded data removed]",
      "text/plain": [
       "<Figure size 1000x400 with 1 Axes>"
      ]
     },
     "metadata": {},
     "output_type": "display_data"
    }
   ],
   "source": [
    "# построим дополнительно столбчатую диаграмму пропусков\n",
    "\n",
    "cols_null_persent = data.isnull().mean() * 100\n",
    "null_cols = cols_null_persent[cols_null_persent>0].sort_values(ascending=False)\n",
    "\n",
    "null_cols.plot(\n",
    "    kind='bar',\n",
    "    figsize=(10, 4),\n",
    "    title='Распределение пропусков в данных'\n",
    ");"
   ]
  },
  {
   "cell_type": "markdown",
   "metadata": {},
   "source": [
    "5 столбцов имеют более 39% пропусков:\n",
    "\n",
    "* private pool    98.89%\n",
    "\n",
    "* mls-id          93.39%\n",
    "\n",
    "* PrivatePool     89.31%\n",
    "\n",
    "* fireplace       72.66%\n",
    "\n",
    "* stories         39.96%\n",
    "\n",
    "Удалим эти признаки. Также удалим столбец MlsId как служебную информацию."
   ]
  },
  {
   "cell_type": "code",
   "execution_count": 6,
   "metadata": {},
   "outputs": [
    {
     "data": {
      "text/plain": [
       "(377185, 12)"
      ]
     },
     "metadata": {},
     "output_type": "display_data"
    }
   ],
   "source": [
    "data = data.drop(['private pool', 'mls-id', 'PrivatePool', 'fireplace', 'stories', 'MlsId'], axis=1)\n",
    "\n",
    "display(data.shape)"
   ]
  },
  {
   "cell_type": "markdown",
   "metadata": {},
   "source": [
    "В целевом признаке target также есть пропуски (0.66%). Удалим такие строки."
   ]
  },
  {
   "cell_type": "code",
   "execution_count": 7,
   "metadata": {},
   "outputs": [],
   "source": [
    "data = data.dropna(subset=['target']).reset_index(drop=True)"
   ]
  },
  {
   "cell_type": "code",
   "execution_count": 8,
   "metadata": {},
   "outputs": [
    {
     "data": {
      "text/plain": [
       "'Shape of data: (374704, 12)'"
      ]
     },
     "metadata": {},
     "output_type": "display_data"
    },
    {
     "name": "stdout",
     "output_type": "stream",
     "text": [
      "<class 'pandas.core.frame.DataFrame'>\n",
      "RangeIndex: 374704 entries, 0 to 374703\n",
      "Data columns (total 12 columns):\n",
      " #   Column        Non-Null Count   Dtype \n",
      "---  ------        --------------   ----- \n",
      " 0   status        335447 non-null  object\n",
      " 1   propertyType  340150 non-null  object\n",
      " 2   street        374702 non-null  object\n",
      " 3   baths         269328 non-null  object\n",
      " 4   homeFacts     374704 non-null  object\n",
      " 5   city          374670 non-null  object\n",
      " 6   schools       374704 non-null  object\n",
      " 7   sqft          334582 non-null  object\n",
      " 8   zipcode       374704 non-null  object\n",
      " 9   beds          283748 non-null  object\n",
      " 10  state         374704 non-null  object\n",
      " 11  target        374704 non-null  object\n",
      "dtypes: object(12)\n",
      "memory usage: 34.3+ MB\n"
     ]
    }
   ],
   "source": [
    "display('Shape of data: {}'.format(data.shape))\n",
    "\n",
    "data.info()"
   ]
  },
  {
   "cell_type": "markdown",
   "metadata": {},
   "source": [
    "Посмотрим пропуски в строках"
   ]
  },
  {
   "cell_type": "code",
   "execution_count": 9,
   "metadata": {},
   "outputs": [
    {
     "data": {
      "text/plain": [
       "50886     4\n",
       "339191    4\n",
       "255106    4\n",
       "255104    4\n",
       "143860    4\n",
       "         ..\n",
       "217424    0\n",
       "217425    0\n",
       "217426    0\n",
       "217427    0\n",
       "0         0\n",
       "Length: 374704, dtype: int64"
      ]
     },
     "metadata": {},
     "output_type": "display_data"
    },
    {
     "data": {
      "text/html": [
       "<div>\n",
       "<style scoped>\n",
       "    .dataframe tbody tr th:only-of-type {\n",
       "        vertical-align: middle;\n",
       "    }\n",
       "\n",
       "    .dataframe tbody tr th {\n",
       "        vertical-align: top;\n",
       "    }\n",
       "\n",
       "    .dataframe thead th {\n",
       "        text-align: right;\n",
       "    }\n",
       "</style>\n",
       "<table border=\"1\" class=\"dataframe\">\n",
       "  <thead>\n",
       "    <tr style=\"text-align: right;\">\n",
       "      <th></th>\n",
       "      <th>status</th>\n",
       "      <th>propertyType</th>\n",
       "      <th>street</th>\n",
       "      <th>baths</th>\n",
       "      <th>homeFacts</th>\n",
       "      <th>city</th>\n",
       "      <th>schools</th>\n",
       "      <th>sqft</th>\n",
       "      <th>zipcode</th>\n",
       "      <th>beds</th>\n",
       "      <th>state</th>\n",
       "      <th>target</th>\n",
       "    </tr>\n",
       "  </thead>\n",
       "  <tbody>\n",
       "    <tr>\n",
       "      <th>7</th>\n",
       "      <td>Active</td>\n",
       "      <td>NaN</td>\n",
       "      <td>6094 Mingle Dr</td>\n",
       "      <td>NaN</td>\n",
       "      <td>{'atAGlanceFacts': [{'factValue': '1976', 'fac...</td>\n",
       "      <td>Memphis</td>\n",
       "      <td>[{'rating': ['4', '2', '2'], 'data': {'Distanc...</td>\n",
       "      <td>NaN</td>\n",
       "      <td>38115</td>\n",
       "      <td>NaN</td>\n",
       "      <td>TN</td>\n",
       "      <td>68,000</td>\n",
       "    </tr>\n",
       "    <tr>\n",
       "      <th>40</th>\n",
       "      <td>Active</td>\n",
       "      <td>NaN</td>\n",
       "      <td>1104 Rotonda Cir</td>\n",
       "      <td>NaN</td>\n",
       "      <td>{'atAGlanceFacts': [{'factValue': '', 'factLab...</td>\n",
       "      <td>ROTONDA WEST</td>\n",
       "      <td>[{'rating': ['6', '6', '7'], 'data': {'Distanc...</td>\n",
       "      <td>NaN</td>\n",
       "      <td>33947</td>\n",
       "      <td>NaN</td>\n",
       "      <td>FL</td>\n",
       "      <td>54,000</td>\n",
       "    </tr>\n",
       "    <tr>\n",
       "      <th>42</th>\n",
       "      <td>Active</td>\n",
       "      <td>NaN</td>\n",
       "      <td>MLS #: STRI1057289</td>\n",
       "      <td>NaN</td>\n",
       "      <td>{'atAGlanceFacts': [{'factValue': '', 'factLab...</td>\n",
       "      <td>New York</td>\n",
       "      <td>[{'rating': ['NR', 'NR', '9', '8', '8', '2', '...</td>\n",
       "      <td>NaN</td>\n",
       "      <td>10006</td>\n",
       "      <td>NaN</td>\n",
       "      <td>NY</td>\n",
       "      <td>850,000</td>\n",
       "    </tr>\n",
       "    <tr>\n",
       "      <th>48</th>\n",
       "      <td>Active</td>\n",
       "      <td>NaN</td>\n",
       "      <td>18b Sitton-Mills Pl</td>\n",
       "      <td>NaN</td>\n",
       "      <td>{'atAGlanceFacts': [{'factValue': '', 'factLab...</td>\n",
       "      <td>Signal Mountain</td>\n",
       "      <td>[{'rating': ['8', 'NR', '7', '4'], 'data': {'D...</td>\n",
       "      <td>NaN</td>\n",
       "      <td>37377</td>\n",
       "      <td>NaN</td>\n",
       "      <td>TN</td>\n",
       "      <td>125,000</td>\n",
       "    </tr>\n",
       "    <tr>\n",
       "      <th>63</th>\n",
       "      <td>Active</td>\n",
       "      <td>NaN</td>\n",
       "      <td>107 Road 5110</td>\n",
       "      <td>NaN</td>\n",
       "      <td>{'atAGlanceFacts': [{'factValue': '', 'factLab...</td>\n",
       "      <td>Cleveland</td>\n",
       "      <td>[{'rating': ['NR', '4', '6', '5', '2'], 'data'...</td>\n",
       "      <td>NaN</td>\n",
       "      <td>77327</td>\n",
       "      <td>NaN</td>\n",
       "      <td>TX</td>\n",
       "      <td>50,000</td>\n",
       "    </tr>\n",
       "    <tr>\n",
       "      <th>...</th>\n",
       "      <td>...</td>\n",
       "      <td>...</td>\n",
       "      <td>...</td>\n",
       "      <td>...</td>\n",
       "      <td>...</td>\n",
       "      <td>...</td>\n",
       "      <td>...</td>\n",
       "      <td>...</td>\n",
       "      <td>...</td>\n",
       "      <td>...</td>\n",
       "      <td>...</td>\n",
       "      <td>...</td>\n",
       "    </tr>\n",
       "    <tr>\n",
       "      <th>374624</th>\n",
       "      <td>Active</td>\n",
       "      <td>NaN</td>\n",
       "      <td>12031 Cassino Ave</td>\n",
       "      <td>NaN</td>\n",
       "      <td>{'atAGlanceFacts': [{'factValue': '', 'factLab...</td>\n",
       "      <td>PORT CHARLOTTE</td>\n",
       "      <td>[{'rating': ['5', '4', '6'], 'data': {'Distanc...</td>\n",
       "      <td>NaN</td>\n",
       "      <td>33953</td>\n",
       "      <td>NaN</td>\n",
       "      <td>FL</td>\n",
       "      <td>15,000</td>\n",
       "    </tr>\n",
       "    <tr>\n",
       "      <th>374637</th>\n",
       "      <td>Active</td>\n",
       "      <td>NaN</td>\n",
       "      <td>2889 SW 35th Ave</td>\n",
       "      <td>NaN</td>\n",
       "      <td>{'atAGlanceFacts': [{'factValue': '', 'factLab...</td>\n",
       "      <td>Miami</td>\n",
       "      <td>[{'rating': ['7', 'NR', '10', '5', '5'], 'data...</td>\n",
       "      <td>NaN</td>\n",
       "      <td>33133</td>\n",
       "      <td>NaN</td>\n",
       "      <td>FL</td>\n",
       "      <td>639,000</td>\n",
       "    </tr>\n",
       "    <tr>\n",
       "      <th>374660</th>\n",
       "      <td>Active</td>\n",
       "      <td>NaN</td>\n",
       "      <td>Mantova Ct</td>\n",
       "      <td>NaN</td>\n",
       "      <td>{'atAGlanceFacts': [{'factValue': '', 'factLab...</td>\n",
       "      <td>ORLANDO</td>\n",
       "      <td>[{'rating': ['7', '6', 'NR', 'NR', '7'], 'data...</td>\n",
       "      <td>NaN</td>\n",
       "      <td>32836</td>\n",
       "      <td>NaN</td>\n",
       "      <td>FL</td>\n",
       "      <td>400,000</td>\n",
       "    </tr>\n",
       "    <tr>\n",
       "      <th>374673</th>\n",
       "      <td>Active</td>\n",
       "      <td>NaN</td>\n",
       "      <td>2104 Russell Ave</td>\n",
       "      <td>NaN</td>\n",
       "      <td>{'atAGlanceFacts': [{'factValue': '', 'factLab...</td>\n",
       "      <td>Charlotte</td>\n",
       "      <td>[{'rating': ['2', '3', '3'], 'data': {'Distanc...</td>\n",
       "      <td>NaN</td>\n",
       "      <td>28216</td>\n",
       "      <td>NaN</td>\n",
       "      <td>NC</td>\n",
       "      <td>99,990</td>\n",
       "    </tr>\n",
       "    <tr>\n",
       "      <th>374702</th>\n",
       "      <td>NaN</td>\n",
       "      <td>NaN</td>\n",
       "      <td>7810 Pereida St</td>\n",
       "      <td>NaN</td>\n",
       "      <td>{'atAGlanceFacts': [{'factValue': None, 'factL...</td>\n",
       "      <td>Houston</td>\n",
       "      <td>[{'rating': ['NA', 'NA', 'NA'], 'data': {'Dist...</td>\n",
       "      <td>NaN</td>\n",
       "      <td>77028</td>\n",
       "      <td>8,479 sqft</td>\n",
       "      <td>TX</td>\n",
       "      <td>$34,500</td>\n",
       "    </tr>\n",
       "  </tbody>\n",
       "</table>\n",
       "<p>16096 rows × 12 columns</p>\n",
       "</div>"
      ],
      "text/plain": [
       "        status propertyType                street baths   \n",
       "7       Active          NaN       6094 Mingle Dr    NaN  \\\n",
       "40      Active          NaN     1104 Rotonda Cir    NaN   \n",
       "42      Active          NaN    MLS #: STRI1057289   NaN   \n",
       "48      Active          NaN  18b Sitton-Mills Pl    NaN   \n",
       "63      Active          NaN        107 Road 5110    NaN   \n",
       "...        ...          ...                   ...   ...   \n",
       "374624  Active          NaN    12031 Cassino Ave    NaN   \n",
       "374637  Active          NaN     2889 SW 35th Ave    NaN   \n",
       "374660  Active          NaN           Mantova Ct    NaN   \n",
       "374673  Active          NaN     2104 Russell Ave    NaN   \n",
       "374702     NaN          NaN       7810 Pereida St   NaN   \n",
       "\n",
       "                                                homeFacts             city   \n",
       "7       {'atAGlanceFacts': [{'factValue': '1976', 'fac...          Memphis  \\\n",
       "40      {'atAGlanceFacts': [{'factValue': '', 'factLab...     ROTONDA WEST   \n",
       "42      {'atAGlanceFacts': [{'factValue': '', 'factLab...         New York   \n",
       "48      {'atAGlanceFacts': [{'factValue': '', 'factLab...  Signal Mountain   \n",
       "63      {'atAGlanceFacts': [{'factValue': '', 'factLab...        Cleveland   \n",
       "...                                                   ...              ...   \n",
       "374624  {'atAGlanceFacts': [{'factValue': '', 'factLab...   PORT CHARLOTTE   \n",
       "374637  {'atAGlanceFacts': [{'factValue': '', 'factLab...            Miami   \n",
       "374660  {'atAGlanceFacts': [{'factValue': '', 'factLab...          ORLANDO   \n",
       "374673  {'atAGlanceFacts': [{'factValue': '', 'factLab...        Charlotte   \n",
       "374702  {'atAGlanceFacts': [{'factValue': None, 'factL...          Houston   \n",
       "\n",
       "                                                  schools sqft zipcode   \n",
       "7       [{'rating': ['4', '2', '2'], 'data': {'Distanc...  NaN   38115  \\\n",
       "40      [{'rating': ['6', '6', '7'], 'data': {'Distanc...  NaN   33947   \n",
       "42      [{'rating': ['NR', 'NR', '9', '8', '8', '2', '...  NaN   10006   \n",
       "48      [{'rating': ['8', 'NR', '7', '4'], 'data': {'D...  NaN   37377   \n",
       "63      [{'rating': ['NR', '4', '6', '5', '2'], 'data'...  NaN   77327   \n",
       "...                                                   ...  ...     ...   \n",
       "374624  [{'rating': ['5', '4', '6'], 'data': {'Distanc...  NaN   33953   \n",
       "374637  [{'rating': ['7', 'NR', '10', '5', '5'], 'data...  NaN   33133   \n",
       "374660  [{'rating': ['7', '6', 'NR', 'NR', '7'], 'data...  NaN   32836   \n",
       "374673  [{'rating': ['2', '3', '3'], 'data': {'Distanc...  NaN   28216   \n",
       "374702  [{'rating': ['NA', 'NA', 'NA'], 'data': {'Dist...  NaN   77028   \n",
       "\n",
       "              beds state   target  \n",
       "7              NaN    TN   68,000  \n",
       "40             NaN    FL   54,000  \n",
       "42             NaN    NY  850,000  \n",
       "48             NaN    TN  125,000  \n",
       "63             NaN    TX   50,000  \n",
       "...            ...   ...      ...  \n",
       "374624         NaN    FL   15,000  \n",
       "374637         NaN    FL  639,000  \n",
       "374660         NaN    FL  400,000  \n",
       "374673         NaN    NC   99,990  \n",
       "374702  8,479 sqft    TX  $34,500  \n",
       "\n",
       "[16096 rows x 12 columns]"
      ]
     },
     "metadata": {},
     "output_type": "display_data"
    },
    {
     "data": {
      "text/html": [
       "<div>\n",
       "<style scoped>\n",
       "    .dataframe tbody tr th:only-of-type {\n",
       "        vertical-align: middle;\n",
       "    }\n",
       "\n",
       "    .dataframe tbody tr th {\n",
       "        vertical-align: top;\n",
       "    }\n",
       "\n",
       "    .dataframe thead th {\n",
       "        text-align: right;\n",
       "    }\n",
       "</style>\n",
       "<table border=\"1\" class=\"dataframe\">\n",
       "  <thead>\n",
       "    <tr style=\"text-align: right;\">\n",
       "      <th></th>\n",
       "      <th>status</th>\n",
       "      <th>propertyType</th>\n",
       "      <th>street</th>\n",
       "      <th>baths</th>\n",
       "      <th>homeFacts</th>\n",
       "      <th>city</th>\n",
       "      <th>schools</th>\n",
       "      <th>sqft</th>\n",
       "      <th>zipcode</th>\n",
       "      <th>beds</th>\n",
       "      <th>state</th>\n",
       "      <th>target</th>\n",
       "    </tr>\n",
       "  </thead>\n",
       "  <tbody>\n",
       "    <tr>\n",
       "      <th>115267</th>\n",
       "      <td>NaN</td>\n",
       "      <td>NaN</td>\n",
       "      <td>6815 Westover St</td>\n",
       "      <td>NaN</td>\n",
       "      <td>{'atAGlanceFacts': [{'factValue': None, 'factL...</td>\n",
       "      <td>Houston</td>\n",
       "      <td>[{'rating': ['5/10', '5/10', '2/10'], 'data': ...</td>\n",
       "      <td>NaN</td>\n",
       "      <td>77087</td>\n",
       "      <td>0.36 acres</td>\n",
       "      <td>TX</td>\n",
       "      <td>$110,000</td>\n",
       "    </tr>\n",
       "  </tbody>\n",
       "</table>\n",
       "</div>"
      ],
      "text/plain": [
       "       status propertyType            street baths   \n",
       "115267    NaN          NaN  6815 Westover St   NaN  \\\n",
       "\n",
       "                                                homeFacts     city   \n",
       "115267  {'atAGlanceFacts': [{'factValue': None, 'factL...  Houston  \\\n",
       "\n",
       "                                                  schools sqft zipcode   \n",
       "115267  [{'rating': ['5/10', '5/10', '2/10'], 'data': ...  NaN   77087  \\\n",
       "\n",
       "              beds state    target  \n",
       "115267  0.36 acres    TX  $110,000  "
      ]
     },
     "execution_count": 9,
     "metadata": {},
     "output_type": "execute_result"
    }
   ],
   "source": [
    "display(data.isnull().sum(axis=1).sort_values(ascending=False))\n",
    "\n",
    "display(data[data.isnull().sum(axis=1)>=4])\n",
    "\n",
    "data.iloc[[115267]]"
   ]
  },
  {
   "cell_type": "code",
   "execution_count": 10,
   "metadata": {},
   "outputs": [
    {
     "name": "stdout",
     "output_type": "stream",
     "text": [
      "<class 'pandas.core.frame.DataFrame'>\n",
      "Index: 358608 entries, 0 to 374703\n",
      "Data columns (total 12 columns):\n",
      " #   Column        Non-Null Count   Dtype \n",
      "---  ------        --------------   ----- \n",
      " 0   status        322292 non-null  object\n",
      " 1   propertyType  340148 non-null  object\n",
      " 2   street        358607 non-null  object\n",
      " 3   baths         269328 non-null  object\n",
      " 4   homeFacts     358608 non-null  object\n",
      " 5   city          358575 non-null  object\n",
      " 6   schools       358608 non-null  object\n",
      " 7   sqft          334571 non-null  object\n",
      " 8   zipcode       358608 non-null  object\n",
      " 9   beds          280818 non-null  object\n",
      " 10  state         358608 non-null  object\n",
      " 11  target        358608 non-null  object\n",
      "dtypes: object(12)\n",
      "memory usage: 35.6+ MB\n"
     ]
    }
   ],
   "source": [
    "# удаляем строки с 4 пропусками\n",
    "m = data.shape[1] #число признаков в данных\n",
    "data = data.dropna(thresh=m-3, axis=0)\n",
    "\n",
    "data.info()"
   ]
  },
  {
   "cell_type": "code",
   "execution_count": 11,
   "metadata": {},
   "outputs": [
    {
     "data": {
      "text/plain": [
       "319933"
      ]
     },
     "execution_count": 11,
     "metadata": {},
     "output_type": "execute_result"
    }
   ],
   "source": [
    "# посмотрим на количество уникальных значений в признаке street\n",
    "data['street'].nunique()"
   ]
  },
  {
   "cell_type": "code",
   "execution_count": 12,
   "metadata": {},
   "outputs": [],
   "source": [
    "# удалим признак из-за большого количества уникальных значений\n",
    "data = data.drop(['street'], axis=1)"
   ]
  },
  {
   "cell_type": "code",
   "execution_count": 13,
   "metadata": {},
   "outputs": [
    {
     "data": {
      "text/plain": [
       "(327145, 11)"
      ]
     },
     "execution_count": 13,
     "metadata": {},
     "output_type": "execute_result"
    }
   ],
   "source": [
    "# удалим строки со значением в propertyType 'land' и 'lot/land', так как это земля, использовать ее для прогноза стоимости жилья не будем\n",
    "\n",
    "data['propertyType'] = data['propertyType'].str.lower() #приведем строки в стобце к нижненму регистру\n",
    "data = data[(data.propertyType != 'land') & (data.propertyType != 'lot/land')]\n",
    "\n",
    "data.shape"
   ]
  },
  {
   "cell_type": "markdown",
   "metadata": {},
   "source": [
    "Проверим наличие дубликатов"
   ]
  },
  {
   "cell_type": "code",
   "execution_count": 14,
   "metadata": {},
   "outputs": [
    {
     "data": {
      "text/plain": [
       "'Number of duplicates: 1611'"
      ]
     },
     "metadata": {},
     "output_type": "display_data"
    }
   ],
   "source": [
    "display('Number of duplicates: {}'.format(data.duplicated().sum()))"
   ]
  },
  {
   "cell_type": "code",
   "execution_count": 15,
   "metadata": {},
   "outputs": [
    {
     "data": {
      "text/plain": [
       "'Shape of data: (325534, 11)'"
      ]
     },
     "metadata": {},
     "output_type": "display_data"
    }
   ],
   "source": [
    "# удалим дубликаты\n",
    "data = data.drop_duplicates().reset_index(drop=True)\n",
    "\n",
    "display('Shape of data: {}'.format(data.shape))"
   ]
  },
  {
   "cell_type": "code",
   "execution_count": 16,
   "metadata": {},
   "outputs": [
    {
     "data": {
      "text/plain": [
       "baths           18.990950\n",
       "beds            14.938532\n",
       "status          11.057217\n",
       "propertyType     5.611088\n",
       "sqft             2.309436\n",
       "city             0.002765\n",
       "homeFacts        0.000000\n",
       "schools          0.000000\n",
       "zipcode          0.000000\n",
       "state            0.000000\n",
       "target           0.000000\n",
       "dtype: float64"
      ]
     },
     "execution_count": 16,
     "metadata": {},
     "output_type": "execute_result"
    }
   ],
   "source": [
    "(data.isnull().mean()*100).sort_values(ascending=False)"
   ]
  },
  {
   "cell_type": "markdown",
   "metadata": {},
   "source": [
    "Из данных удалено 51 651 наблюдений, или 13,7% от первоначального количества."
   ]
  },
  {
   "cell_type": "code",
   "execution_count": 17,
   "metadata": {},
   "outputs": [
    {
     "data": {
      "text/html": [
       "<div>\n",
       "<style scoped>\n",
       "    .dataframe tbody tr th:only-of-type {\n",
       "        vertical-align: middle;\n",
       "    }\n",
       "\n",
       "    .dataframe tbody tr th {\n",
       "        vertical-align: top;\n",
       "    }\n",
       "\n",
       "    .dataframe thead th {\n",
       "        text-align: right;\n",
       "    }\n",
       "</style>\n",
       "<table border=\"1\" class=\"dataframe\">\n",
       "  <thead>\n",
       "    <tr style=\"text-align: right;\">\n",
       "      <th></th>\n",
       "      <th>status</th>\n",
       "      <th>propertyType</th>\n",
       "      <th>baths</th>\n",
       "      <th>homeFacts</th>\n",
       "      <th>city</th>\n",
       "      <th>schools</th>\n",
       "      <th>sqft</th>\n",
       "      <th>zipcode</th>\n",
       "      <th>beds</th>\n",
       "      <th>state</th>\n",
       "      <th>target</th>\n",
       "    </tr>\n",
       "  </thead>\n",
       "  <tbody>\n",
       "    <tr>\n",
       "      <th>6799</th>\n",
       "      <td>Active</td>\n",
       "      <td>single family home</td>\n",
       "      <td>2</td>\n",
       "      <td>{'atAGlanceFacts': [{'factValue': '2000', 'fac...</td>\n",
       "      <td>NaN</td>\n",
       "      <td>[{'rating': ['1', '4', '3', '3', '6', '6'], 'd...</td>\n",
       "      <td>1016</td>\n",
       "      <td>32686</td>\n",
       "      <td>1</td>\n",
       "      <td>FL</td>\n",
       "      <td>$1,495,000</td>\n",
       "    </tr>\n",
       "    <tr>\n",
       "      <th>113025</th>\n",
       "      <td>For sale</td>\n",
       "      <td>single family</td>\n",
       "      <td>Bathrooms: 6</td>\n",
       "      <td>{'atAGlanceFacts': [{'factValue': '2000', 'fac...</td>\n",
       "      <td>NaN</td>\n",
       "      <td>[{'rating': ['5/10', 'NA', '4/10'], 'data': {'...</td>\n",
       "      <td>Total interior livable area: 5,905 sqft</td>\n",
       "      <td>20003</td>\n",
       "      <td>5 bd</td>\n",
       "      <td>MA</td>\n",
       "      <td>$1,650,000</td>\n",
       "    </tr>\n",
       "    <tr>\n",
       "      <th>147360</th>\n",
       "      <td>Active</td>\n",
       "      <td>single family home</td>\n",
       "      <td>7.5</td>\n",
       "      <td>{'atAGlanceFacts': [{'factValue': '2015', 'fac...</td>\n",
       "      <td>NaN</td>\n",
       "      <td>[{'rating': ['2', '4', '6', '4', '3', '10', 'N...</td>\n",
       "      <td>0</td>\n",
       "      <td>34741</td>\n",
       "      <td>7</td>\n",
       "      <td>FL</td>\n",
       "      <td>$675,000</td>\n",
       "    </tr>\n",
       "    <tr>\n",
       "      <th>240676</th>\n",
       "      <td>Active</td>\n",
       "      <td>single family home</td>\n",
       "      <td>5.5</td>\n",
       "      <td>{'atAGlanceFacts': [{'factValue': '2016', 'fac...</td>\n",
       "      <td>NaN</td>\n",
       "      <td>[{'rating': ['4', '9', '6', '5', '3', 'NR', 'N...</td>\n",
       "      <td>0</td>\n",
       "      <td>34747</td>\n",
       "      <td>9</td>\n",
       "      <td>FL</td>\n",
       "      <td>$595,000</td>\n",
       "    </tr>\n",
       "    <tr>\n",
       "      <th>243675</th>\n",
       "      <td>Active</td>\n",
       "      <td>single family home</td>\n",
       "      <td>9</td>\n",
       "      <td>{'atAGlanceFacts': [{'factValue': '2018', 'fac...</td>\n",
       "      <td>NaN</td>\n",
       "      <td>[{'rating': ['4', '3', '6', '5', '9', 'NR', 'N...</td>\n",
       "      <td>5141</td>\n",
       "      <td>34747</td>\n",
       "      <td>10</td>\n",
       "      <td>FL</td>\n",
       "      <td>$890,000</td>\n",
       "    </tr>\n",
       "    <tr>\n",
       "      <th>267045</th>\n",
       "      <td>Active</td>\n",
       "      <td>condo/townhome/row home/co-op</td>\n",
       "      <td>2</td>\n",
       "      <td>{'atAGlanceFacts': [{'factValue': '2019', 'fac...</td>\n",
       "      <td>NaN</td>\n",
       "      <td>[{'rating': [], 'data': {'Distance': [], 'Grad...</td>\n",
       "      <td>0</td>\n",
       "      <td>34747</td>\n",
       "      <td>2</td>\n",
       "      <td>FL</td>\n",
       "      <td>$343,300</td>\n",
       "    </tr>\n",
       "    <tr>\n",
       "      <th>298913</th>\n",
       "      <td>For sale</td>\n",
       "      <td>single family</td>\n",
       "      <td>Bathrooms: 4</td>\n",
       "      <td>{'atAGlanceFacts': [{'factValue': '1991', 'fac...</td>\n",
       "      <td>NaN</td>\n",
       "      <td>[{'rating': ['10/10', '3/10'], 'data': {'Dista...</td>\n",
       "      <td>-- sqft</td>\n",
       "      <td>33126</td>\n",
       "      <td>6 bd</td>\n",
       "      <td>FL</td>\n",
       "      <td>$340,000</td>\n",
       "    </tr>\n",
       "    <tr>\n",
       "      <th>309840</th>\n",
       "      <td>Active</td>\n",
       "      <td>single family home</td>\n",
       "      <td>7</td>\n",
       "      <td>{'atAGlanceFacts': [{'factValue': '2019', 'fac...</td>\n",
       "      <td>NaN</td>\n",
       "      <td>[{'rating': [], 'data': {'Distance': [], 'Grad...</td>\n",
       "      <td>0</td>\n",
       "      <td>34747</td>\n",
       "      <td>7</td>\n",
       "      <td>FL</td>\n",
       "      <td>$1,012,600</td>\n",
       "    </tr>\n",
       "    <tr>\n",
       "      <th>319404</th>\n",
       "      <td>Active</td>\n",
       "      <td>farms/ranches</td>\n",
       "      <td>0</td>\n",
       "      <td>{'atAGlanceFacts': [{'factValue': '1982', 'fac...</td>\n",
       "      <td>NaN</td>\n",
       "      <td>[{'rating': [], 'data': {'Distance': [], 'Grad...</td>\n",
       "      <td>30000</td>\n",
       "      <td>77032</td>\n",
       "      <td>10.0</td>\n",
       "      <td>TX</td>\n",
       "      <td>$2,700,000</td>\n",
       "    </tr>\n",
       "  </tbody>\n",
       "</table>\n",
       "</div>"
      ],
      "text/plain": [
       "          status                   propertyType         baths   \n",
       "6799      Active             single family home             2  \\\n",
       "113025  For sale                  single family  Bathrooms: 6   \n",
       "147360    Active             single family home           7.5   \n",
       "240676    Active             single family home           5.5   \n",
       "243675    Active             single family home             9   \n",
       "267045    Active  condo/townhome/row home/co-op             2   \n",
       "298913  For sale                  single family  Bathrooms: 4   \n",
       "309840    Active             single family home             7   \n",
       "319404    Active                  farms/ranches             0   \n",
       "\n",
       "                                                homeFacts city   \n",
       "6799    {'atAGlanceFacts': [{'factValue': '2000', 'fac...  NaN  \\\n",
       "113025  {'atAGlanceFacts': [{'factValue': '2000', 'fac...  NaN   \n",
       "147360  {'atAGlanceFacts': [{'factValue': '2015', 'fac...  NaN   \n",
       "240676  {'atAGlanceFacts': [{'factValue': '2016', 'fac...  NaN   \n",
       "243675  {'atAGlanceFacts': [{'factValue': '2018', 'fac...  NaN   \n",
       "267045  {'atAGlanceFacts': [{'factValue': '2019', 'fac...  NaN   \n",
       "298913  {'atAGlanceFacts': [{'factValue': '1991', 'fac...  NaN   \n",
       "309840  {'atAGlanceFacts': [{'factValue': '2019', 'fac...  NaN   \n",
       "319404  {'atAGlanceFacts': [{'factValue': '1982', 'fac...  NaN   \n",
       "\n",
       "                                                  schools   \n",
       "6799    [{'rating': ['1', '4', '3', '3', '6', '6'], 'd...  \\\n",
       "113025  [{'rating': ['5/10', 'NA', '4/10'], 'data': {'...   \n",
       "147360  [{'rating': ['2', '4', '6', '4', '3', '10', 'N...   \n",
       "240676  [{'rating': ['4', '9', '6', '5', '3', 'NR', 'N...   \n",
       "243675  [{'rating': ['4', '3', '6', '5', '9', 'NR', 'N...   \n",
       "267045  [{'rating': [], 'data': {'Distance': [], 'Grad...   \n",
       "298913  [{'rating': ['10/10', '3/10'], 'data': {'Dista...   \n",
       "309840  [{'rating': [], 'data': {'Distance': [], 'Grad...   \n",
       "319404  [{'rating': [], 'data': {'Distance': [], 'Grad...   \n",
       "\n",
       "                                           sqft zipcode  beds state   \n",
       "6799                                       1016   32686     1    FL  \\\n",
       "113025  Total interior livable area: 5,905 sqft   20003  5 bd    MA   \n",
       "147360                                        0   34741     7    FL   \n",
       "240676                                        0   34747     9    FL   \n",
       "243675                                     5141   34747    10    FL   \n",
       "267045                                        0   34747     2    FL   \n",
       "298913                                  -- sqft   33126  6 bd    FL   \n",
       "309840                                        0   34747     7    FL   \n",
       "319404                                    30000   77032  10.0    TX   \n",
       "\n",
       "            target  \n",
       "6799    $1,495,000  \n",
       "113025  $1,650,000  \n",
       "147360    $675,000  \n",
       "240676    $595,000  \n",
       "243675    $890,000  \n",
       "267045    $343,300  \n",
       "298913    $340,000  \n",
       "309840  $1,012,600  \n",
       "319404  $2,700,000  "
      ]
     },
     "metadata": {},
     "output_type": "display_data"
    }
   ],
   "source": [
    "# посмотрим на пропуски в городах \n",
    "\n",
    "display(data[data['city'].isnull()])"
   ]
  },
  {
   "cell_type": "code",
   "execution_count": 18,
   "metadata": {},
   "outputs": [],
   "source": [
    "# отсортируем данные по индексу (zipcode) и заполним пропуски в столбце city следующим по порядку значением\n",
    "\n",
    "data = data.sort_values(by='zipcode')\n",
    "\n",
    "data['city'] = data['city'].fillna(method='ffill')"
   ]
  },
  {
   "cell_type": "code",
   "execution_count": 19,
   "metadata": {},
   "outputs": [
    {
     "data": {
      "text/html": [
       "<div>\n",
       "<style scoped>\n",
       "    .dataframe tbody tr th:only-of-type {\n",
       "        vertical-align: middle;\n",
       "    }\n",
       "\n",
       "    .dataframe tbody tr th {\n",
       "        vertical-align: top;\n",
       "    }\n",
       "\n",
       "    .dataframe thead th {\n",
       "        text-align: right;\n",
       "    }\n",
       "</style>\n",
       "<table border=\"1\" class=\"dataframe\">\n",
       "  <thead>\n",
       "    <tr style=\"text-align: right;\">\n",
       "      <th></th>\n",
       "      <th>status</th>\n",
       "      <th>propertyType</th>\n",
       "      <th>baths</th>\n",
       "      <th>homeFacts</th>\n",
       "      <th>city</th>\n",
       "      <th>schools</th>\n",
       "      <th>sqft</th>\n",
       "      <th>zipcode</th>\n",
       "      <th>beds</th>\n",
       "      <th>state</th>\n",
       "      <th>target</th>\n",
       "    </tr>\n",
       "  </thead>\n",
       "  <tbody>\n",
       "    <tr>\n",
       "      <th>0</th>\n",
       "      <td>Active</td>\n",
       "      <td>single family home</td>\n",
       "      <td>3.5</td>\n",
       "      <td>{'atAGlanceFacts': [{'factValue': '2019', 'fac...</td>\n",
       "      <td>Southern Pines</td>\n",
       "      <td>[{'rating': ['4', '4', '7', 'NR', '4', '7', 'N...</td>\n",
       "      <td>2900</td>\n",
       "      <td>28387</td>\n",
       "      <td>4</td>\n",
       "      <td>NC</td>\n",
       "      <td>$418,000</td>\n",
       "    </tr>\n",
       "    <tr>\n",
       "      <th>1</th>\n",
       "      <td>for sale</td>\n",
       "      <td>single-family home</td>\n",
       "      <td>3 Baths</td>\n",
       "      <td>{'atAGlanceFacts': [{'factValue': '2019', 'fac...</td>\n",
       "      <td>Spokane Valley</td>\n",
       "      <td>[{'rating': ['4/10', 'None/10', '4/10'], 'data...</td>\n",
       "      <td>1,947 sqft</td>\n",
       "      <td>99216</td>\n",
       "      <td>3 Beds</td>\n",
       "      <td>WA</td>\n",
       "      <td>$310,000</td>\n",
       "    </tr>\n",
       "    <tr>\n",
       "      <th>2</th>\n",
       "      <td>for sale</td>\n",
       "      <td>single-family home</td>\n",
       "      <td>2 Baths</td>\n",
       "      <td>{'atAGlanceFacts': [{'factValue': '1961', 'fac...</td>\n",
       "      <td>Los Angeles</td>\n",
       "      <td>[{'rating': ['8/10', '4/10', '8/10'], 'data': ...</td>\n",
       "      <td>3,000 sqft</td>\n",
       "      <td>90049</td>\n",
       "      <td>3 Beds</td>\n",
       "      <td>CA</td>\n",
       "      <td>$2,895,000</td>\n",
       "    </tr>\n",
       "    <tr>\n",
       "      <th>3</th>\n",
       "      <td>for sale</td>\n",
       "      <td>single-family home</td>\n",
       "      <td>8 Baths</td>\n",
       "      <td>{'atAGlanceFacts': [{'factValue': '2006', 'fac...</td>\n",
       "      <td>Dallas</td>\n",
       "      <td>[{'rating': ['9/10', '9/10', '10/10', '9/10'],...</td>\n",
       "      <td>6,457 sqft</td>\n",
       "      <td>75205</td>\n",
       "      <td>5 Beds</td>\n",
       "      <td>TX</td>\n",
       "      <td>$2,395,000</td>\n",
       "    </tr>\n",
       "    <tr>\n",
       "      <th>4</th>\n",
       "      <td>for sale</td>\n",
       "      <td>townhouse</td>\n",
       "      <td>NaN</td>\n",
       "      <td>{'atAGlanceFacts': [{'factValue': '1920', 'fac...</td>\n",
       "      <td>Philadelphia</td>\n",
       "      <td>[{'rating': [], 'data': {'Distance': [], 'Grad...</td>\n",
       "      <td>897 sqft</td>\n",
       "      <td>19145</td>\n",
       "      <td>2 Beds</td>\n",
       "      <td>PA</td>\n",
       "      <td>$209,000</td>\n",
       "    </tr>\n",
       "  </tbody>\n",
       "</table>\n",
       "</div>"
      ],
      "text/plain": [
       "     status        propertyType    baths   \n",
       "0    Active  single family home      3.5  \\\n",
       "1  for sale  single-family home  3 Baths   \n",
       "2  for sale  single-family home  2 Baths   \n",
       "3  for sale  single-family home  8 Baths   \n",
       "4  for sale           townhouse      NaN   \n",
       "\n",
       "                                           homeFacts            city   \n",
       "0  {'atAGlanceFacts': [{'factValue': '2019', 'fac...  Southern Pines  \\\n",
       "1  {'atAGlanceFacts': [{'factValue': '2019', 'fac...  Spokane Valley   \n",
       "2  {'atAGlanceFacts': [{'factValue': '1961', 'fac...     Los Angeles   \n",
       "3  {'atAGlanceFacts': [{'factValue': '2006', 'fac...          Dallas   \n",
       "4  {'atAGlanceFacts': [{'factValue': '1920', 'fac...    Philadelphia   \n",
       "\n",
       "                                             schools        sqft zipcode   \n",
       "0  [{'rating': ['4', '4', '7', 'NR', '4', '7', 'N...        2900   28387  \\\n",
       "1  [{'rating': ['4/10', 'None/10', '4/10'], 'data...  1,947 sqft   99216   \n",
       "2  [{'rating': ['8/10', '4/10', '8/10'], 'data': ...  3,000 sqft   90049   \n",
       "3  [{'rating': ['9/10', '9/10', '10/10', '9/10'],...  6,457 sqft   75205   \n",
       "4  [{'rating': [], 'data': {'Distance': [], 'Grad...    897 sqft   19145   \n",
       "\n",
       "     beds state      target  \n",
       "0       4    NC    $418,000  \n",
       "1  3 Beds    WA    $310,000  \n",
       "2  3 Beds    CA  $2,895,000  \n",
       "3  5 Beds    TX  $2,395,000  \n",
       "4  2 Beds    PA    $209,000  "
      ]
     },
     "execution_count": 19,
     "metadata": {},
     "output_type": "execute_result"
    }
   ],
   "source": [
    "# вернем сортировку по инексу\n",
    "\n",
    "data = data.sort_index()\n",
    "\n",
    "data.head()"
   ]
  },
  {
   "cell_type": "markdown",
   "metadata": {},
   "source": [
    "Преобразуем столбец с целевой переменной target из типа object в числовой. Отметим, что стоимость недвижимости указана в виде строки со следующими особенностями: \n",
    "\n",
    "*  в начале записи есть знак '$'\n",
    "*  каждые три разряда разделены запятой\n",
    "*  последним знаком в некторых записях является +\n",
    "*  для недвижимости со статусом 'for rent' указана стоимость аренды в месяц. В конце строки присутствуют символы '/mo'\n",
    "*  есть 1 строка с диапазоном цен '$1,215 - $1,437/mo'"
   ]
  },
  {
   "cell_type": "code",
   "execution_count": 20,
   "metadata": {},
   "outputs": [
    {
     "data": {
      "text/html": [
       "<div>\n",
       "<style scoped>\n",
       "    .dataframe tbody tr th:only-of-type {\n",
       "        vertical-align: middle;\n",
       "    }\n",
       "\n",
       "    .dataframe tbody tr th {\n",
       "        vertical-align: top;\n",
       "    }\n",
       "\n",
       "    .dataframe thead th {\n",
       "        text-align: right;\n",
       "    }\n",
       "</style>\n",
       "<table border=\"1\" class=\"dataframe\">\n",
       "  <thead>\n",
       "    <tr style=\"text-align: right;\">\n",
       "      <th></th>\n",
       "      <th>status</th>\n",
       "      <th>propertyType</th>\n",
       "      <th>baths</th>\n",
       "      <th>homeFacts</th>\n",
       "      <th>city</th>\n",
       "      <th>schools</th>\n",
       "      <th>sqft</th>\n",
       "      <th>zipcode</th>\n",
       "      <th>beds</th>\n",
       "      <th>state</th>\n",
       "      <th>target</th>\n",
       "    </tr>\n",
       "  </thead>\n",
       "  <tbody>\n",
       "    <tr>\n",
       "      <th>42</th>\n",
       "      <td>for sale</td>\n",
       "      <td>single-family home</td>\n",
       "      <td>2 Baths</td>\n",
       "      <td>{'atAGlanceFacts': [{'factValue': '2017', 'fac...</td>\n",
       "      <td>Fort Worth</td>\n",
       "      <td>[{'rating': ['7/10', '6/10', '8/10'], 'data': ...</td>\n",
       "      <td>1,683 sqft</td>\n",
       "      <td>76179</td>\n",
       "      <td>3 Beds</td>\n",
       "      <td>TX</td>\n",
       "      <td>$233,990+</td>\n",
       "    </tr>\n",
       "  </tbody>\n",
       "</table>\n",
       "</div>"
      ],
      "text/plain": [
       "      status        propertyType    baths   \n",
       "42  for sale  single-family home  2 Baths  \\\n",
       "\n",
       "                                            homeFacts        city   \n",
       "42  {'atAGlanceFacts': [{'factValue': '2017', 'fac...  Fort Worth  \\\n",
       "\n",
       "                                              schools        sqft zipcode   \n",
       "42  [{'rating': ['7/10', '6/10', '8/10'], 'data': ...  1,683 sqft   76179  \\\n",
       "\n",
       "      beds state     target  \n",
       "42  3 Beds    TX  $233,990+  "
      ]
     },
     "metadata": {},
     "output_type": "display_data"
    },
    {
     "data": {
      "text/html": [
       "<div>\n",
       "<style scoped>\n",
       "    .dataframe tbody tr th:only-of-type {\n",
       "        vertical-align: middle;\n",
       "    }\n",
       "\n",
       "    .dataframe tbody tr th {\n",
       "        vertical-align: top;\n",
       "    }\n",
       "\n",
       "    .dataframe thead th {\n",
       "        text-align: right;\n",
       "    }\n",
       "</style>\n",
       "<table border=\"1\" class=\"dataframe\">\n",
       "  <thead>\n",
       "    <tr style=\"text-align: right;\">\n",
       "      <th></th>\n",
       "      <th>status</th>\n",
       "      <th>propertyType</th>\n",
       "      <th>baths</th>\n",
       "      <th>homeFacts</th>\n",
       "      <th>city</th>\n",
       "      <th>schools</th>\n",
       "      <th>sqft</th>\n",
       "      <th>zipcode</th>\n",
       "      <th>beds</th>\n",
       "      <th>state</th>\n",
       "      <th>target</th>\n",
       "    </tr>\n",
       "  </thead>\n",
       "  <tbody>\n",
       "    <tr>\n",
       "      <th>478</th>\n",
       "      <td>for rent</td>\n",
       "      <td>single-family home</td>\n",
       "      <td>3.5 Baths</td>\n",
       "      <td>{'atAGlanceFacts': [{'factValue': '1913', 'fac...</td>\n",
       "      <td>Chicago</td>\n",
       "      <td>[{'rating': ['1/10', '4/10', '2/10', 'None/10'...</td>\n",
       "      <td>3,300 sqft</td>\n",
       "      <td>60618</td>\n",
       "      <td>4 Beds</td>\n",
       "      <td>IL</td>\n",
       "      <td>$5,500/mo</td>\n",
       "    </tr>\n",
       "  </tbody>\n",
       "</table>\n",
       "</div>"
      ],
      "text/plain": [
       "       status        propertyType      baths   \n",
       "478  for rent  single-family home  3.5 Baths  \\\n",
       "\n",
       "                                             homeFacts     city   \n",
       "478  {'atAGlanceFacts': [{'factValue': '1913', 'fac...  Chicago  \\\n",
       "\n",
       "                                               schools        sqft zipcode   \n",
       "478  [{'rating': ['1/10', '4/10', '2/10', 'None/10'...  3,300 sqft   60618  \\\n",
       "\n",
       "       beds state     target  \n",
       "478  4 Beds    IL  $5,500/mo  "
      ]
     },
     "metadata": {},
     "output_type": "display_data"
    },
    {
     "data": {
      "text/html": [
       "<div>\n",
       "<style scoped>\n",
       "    .dataframe tbody tr th:only-of-type {\n",
       "        vertical-align: middle;\n",
       "    }\n",
       "\n",
       "    .dataframe tbody tr th {\n",
       "        vertical-align: top;\n",
       "    }\n",
       "\n",
       "    .dataframe thead th {\n",
       "        text-align: right;\n",
       "    }\n",
       "</style>\n",
       "<table border=\"1\" class=\"dataframe\">\n",
       "  <thead>\n",
       "    <tr style=\"text-align: right;\">\n",
       "      <th></th>\n",
       "      <th>status</th>\n",
       "      <th>propertyType</th>\n",
       "      <th>baths</th>\n",
       "      <th>homeFacts</th>\n",
       "      <th>city</th>\n",
       "      <th>schools</th>\n",
       "      <th>sqft</th>\n",
       "      <th>zipcode</th>\n",
       "      <th>beds</th>\n",
       "      <th>state</th>\n",
       "      <th>target</th>\n",
       "    </tr>\n",
       "  </thead>\n",
       "  <tbody>\n",
       "    <tr>\n",
       "      <th>285333</th>\n",
       "      <td>for rent</td>\n",
       "      <td>apartment</td>\n",
       "      <td>1-2 Baths</td>\n",
       "      <td>{'atAGlanceFacts': [{'factValue': '1964', 'fac...</td>\n",
       "      <td>Dallas</td>\n",
       "      <td>[{'rating': ['5/10', '5/10', '5/10'], 'data': ...</td>\n",
       "      <td>610-840 sqft</td>\n",
       "      <td>75206</td>\n",
       "      <td>1-2 Beds</td>\n",
       "      <td>TX</td>\n",
       "      <td>$1,215 - $1,437/mo</td>\n",
       "    </tr>\n",
       "  </tbody>\n",
       "</table>\n",
       "</div>"
      ],
      "text/plain": [
       "          status propertyType      baths   \n",
       "285333  for rent    apartment  1-2 Baths  \\\n",
       "\n",
       "                                                homeFacts    city   \n",
       "285333  {'atAGlanceFacts': [{'factValue': '1964', 'fac...  Dallas  \\\n",
       "\n",
       "                                                  schools          sqft   \n",
       "285333  [{'rating': ['5/10', '5/10', '5/10'], 'data': ...  610-840 sqft  \\\n",
       "\n",
       "       zipcode      beds state              target  \n",
       "285333   75206  1-2 Beds    TX  $1,215 - $1,437/mo  "
      ]
     },
     "metadata": {},
     "output_type": "display_data"
    }
   ],
   "source": [
    "# пример описанных выше записей\n",
    "\n",
    "display(data.iloc[[42]])\n",
    "display(data.iloc[[478]])\n",
    "display(data.iloc[[285333]])"
   ]
  },
  {
   "cell_type": "code",
   "execution_count": 21,
   "metadata": {},
   "outputs": [
    {
     "data": {
      "text/html": [
       "<div>\n",
       "<style scoped>\n",
       "    .dataframe tbody tr th:only-of-type {\n",
       "        vertical-align: middle;\n",
       "    }\n",
       "\n",
       "    .dataframe tbody tr th {\n",
       "        vertical-align: top;\n",
       "    }\n",
       "\n",
       "    .dataframe thead th {\n",
       "        text-align: right;\n",
       "    }\n",
       "</style>\n",
       "<table border=\"1\" class=\"dataframe\">\n",
       "  <thead>\n",
       "    <tr style=\"text-align: right;\">\n",
       "      <th></th>\n",
       "      <th>status</th>\n",
       "      <th>propertyType</th>\n",
       "      <th>baths</th>\n",
       "      <th>homeFacts</th>\n",
       "      <th>city</th>\n",
       "      <th>schools</th>\n",
       "      <th>sqft</th>\n",
       "      <th>zipcode</th>\n",
       "      <th>beds</th>\n",
       "      <th>state</th>\n",
       "      <th>target</th>\n",
       "    </tr>\n",
       "  </thead>\n",
       "  <tbody>\n",
       "    <tr>\n",
       "      <th>0</th>\n",
       "      <td>Active</td>\n",
       "      <td>single family home</td>\n",
       "      <td>3.5</td>\n",
       "      <td>{'atAGlanceFacts': [{'factValue': '2019', 'fac...</td>\n",
       "      <td>Southern Pines</td>\n",
       "      <td>[{'rating': ['4', '4', '7', 'NR', '4', '7', 'N...</td>\n",
       "      <td>2900</td>\n",
       "      <td>28387</td>\n",
       "      <td>4</td>\n",
       "      <td>NC</td>\n",
       "      <td>418000.0</td>\n",
       "    </tr>\n",
       "    <tr>\n",
       "      <th>1</th>\n",
       "      <td>for sale</td>\n",
       "      <td>single-family home</td>\n",
       "      <td>3 Baths</td>\n",
       "      <td>{'atAGlanceFacts': [{'factValue': '2019', 'fac...</td>\n",
       "      <td>Spokane Valley</td>\n",
       "      <td>[{'rating': ['4/10', 'None/10', '4/10'], 'data...</td>\n",
       "      <td>1,947 sqft</td>\n",
       "      <td>99216</td>\n",
       "      <td>3 Beds</td>\n",
       "      <td>WA</td>\n",
       "      <td>310000.0</td>\n",
       "    </tr>\n",
       "    <tr>\n",
       "      <th>2</th>\n",
       "      <td>for sale</td>\n",
       "      <td>single-family home</td>\n",
       "      <td>2 Baths</td>\n",
       "      <td>{'atAGlanceFacts': [{'factValue': '1961', 'fac...</td>\n",
       "      <td>Los Angeles</td>\n",
       "      <td>[{'rating': ['8/10', '4/10', '8/10'], 'data': ...</td>\n",
       "      <td>3,000 sqft</td>\n",
       "      <td>90049</td>\n",
       "      <td>3 Beds</td>\n",
       "      <td>CA</td>\n",
       "      <td>2895000.0</td>\n",
       "    </tr>\n",
       "    <tr>\n",
       "      <th>3</th>\n",
       "      <td>for sale</td>\n",
       "      <td>single-family home</td>\n",
       "      <td>8 Baths</td>\n",
       "      <td>{'atAGlanceFacts': [{'factValue': '2006', 'fac...</td>\n",
       "      <td>Dallas</td>\n",
       "      <td>[{'rating': ['9/10', '9/10', '10/10', '9/10'],...</td>\n",
       "      <td>6,457 sqft</td>\n",
       "      <td>75205</td>\n",
       "      <td>5 Beds</td>\n",
       "      <td>TX</td>\n",
       "      <td>2395000.0</td>\n",
       "    </tr>\n",
       "    <tr>\n",
       "      <th>4</th>\n",
       "      <td>for sale</td>\n",
       "      <td>townhouse</td>\n",
       "      <td>NaN</td>\n",
       "      <td>{'atAGlanceFacts': [{'factValue': '1920', 'fac...</td>\n",
       "      <td>Philadelphia</td>\n",
       "      <td>[{'rating': [], 'data': {'Distance': [], 'Grad...</td>\n",
       "      <td>897 sqft</td>\n",
       "      <td>19145</td>\n",
       "      <td>2 Beds</td>\n",
       "      <td>PA</td>\n",
       "      <td>209000.0</td>\n",
       "    </tr>\n",
       "  </tbody>\n",
       "</table>\n",
       "</div>"
      ],
      "text/plain": [
       "     status        propertyType    baths   \n",
       "0    Active  single family home      3.5  \\\n",
       "1  for sale  single-family home  3 Baths   \n",
       "2  for sale  single-family home  2 Baths   \n",
       "3  for sale  single-family home  8 Baths   \n",
       "4  for sale           townhouse      NaN   \n",
       "\n",
       "                                           homeFacts            city   \n",
       "0  {'atAGlanceFacts': [{'factValue': '2019', 'fac...  Southern Pines  \\\n",
       "1  {'atAGlanceFacts': [{'factValue': '2019', 'fac...  Spokane Valley   \n",
       "2  {'atAGlanceFacts': [{'factValue': '1961', 'fac...     Los Angeles   \n",
       "3  {'atAGlanceFacts': [{'factValue': '2006', 'fac...          Dallas   \n",
       "4  {'atAGlanceFacts': [{'factValue': '1920', 'fac...    Philadelphia   \n",
       "\n",
       "                                             schools        sqft zipcode   \n",
       "0  [{'rating': ['4', '4', '7', 'NR', '4', '7', 'N...        2900   28387  \\\n",
       "1  [{'rating': ['4/10', 'None/10', '4/10'], 'data...  1,947 sqft   99216   \n",
       "2  [{'rating': ['8/10', '4/10', '8/10'], 'data': ...  3,000 sqft   90049   \n",
       "3  [{'rating': ['9/10', '9/10', '10/10', '9/10'],...  6,457 sqft   75205   \n",
       "4  [{'rating': [], 'data': {'Distance': [], 'Grad...    897 sqft   19145   \n",
       "\n",
       "     beds state     target  \n",
       "0       4    NC   418000.0  \n",
       "1  3 Beds    WA   310000.0  \n",
       "2  3 Beds    CA  2895000.0  \n",
       "3  5 Beds    TX  2395000.0  \n",
       "4  2 Beds    PA   209000.0  "
      ]
     },
     "execution_count": 21,
     "metadata": {},
     "output_type": "execute_result"
    }
   ],
   "source": [
    "# обработаем столбец с целевой переменной, преобразуем его в числовой тип\n",
    "\n",
    "data['target'] = data['target'].apply(lambda x: x.strip('$ + /mo').split(','))\n",
    "data['target'] = data['target'].apply(lambda x: ''.join(x))\n",
    "data.loc[data['target']=='1215 - $1437', ['target']]=1326 # заполним значение, заданное диапазоном, средним\n",
    "data['target'] = data['target'].astype(float)\n",
    "\n",
    "data.head()"
   ]
  },
  {
   "cell_type": "code",
   "execution_count": 22,
   "metadata": {},
   "outputs": [
    {
     "data": {
      "text/plain": [
       "1.0"
      ]
     },
     "metadata": {},
     "output_type": "display_data"
    },
    {
     "data": {
      "text/plain": [
       "195000000.0"
      ]
     },
     "metadata": {},
     "output_type": "display_data"
    },
    {
     "data": {
      "text/html": [
       "<div>\n",
       "<style scoped>\n",
       "    .dataframe tbody tr th:only-of-type {\n",
       "        vertical-align: middle;\n",
       "    }\n",
       "\n",
       "    .dataframe tbody tr th {\n",
       "        vertical-align: top;\n",
       "    }\n",
       "\n",
       "    .dataframe thead th {\n",
       "        text-align: right;\n",
       "    }\n",
       "</style>\n",
       "<table border=\"1\" class=\"dataframe\">\n",
       "  <thead>\n",
       "    <tr style=\"text-align: right;\">\n",
       "      <th></th>\n",
       "      <th>target</th>\n",
       "    </tr>\n",
       "  </thead>\n",
       "  <tbody>\n",
       "    <tr>\n",
       "      <th>count</th>\n",
       "      <td>3.255340e+05</td>\n",
       "    </tr>\n",
       "    <tr>\n",
       "      <th>mean</th>\n",
       "      <td>6.527900e+05</td>\n",
       "    </tr>\n",
       "    <tr>\n",
       "      <th>std</th>\n",
       "      <td>1.795924e+06</td>\n",
       "    </tr>\n",
       "    <tr>\n",
       "      <th>min</th>\n",
       "      <td>1.000000e+00</td>\n",
       "    </tr>\n",
       "    <tr>\n",
       "      <th>25%</th>\n",
       "      <td>2.149000e+05</td>\n",
       "    </tr>\n",
       "    <tr>\n",
       "      <th>50%</th>\n",
       "      <td>3.399000e+05</td>\n",
       "    </tr>\n",
       "    <tr>\n",
       "      <th>75%</th>\n",
       "      <td>5.980000e+05</td>\n",
       "    </tr>\n",
       "    <tr>\n",
       "      <th>max</th>\n",
       "      <td>1.950000e+08</td>\n",
       "    </tr>\n",
       "  </tbody>\n",
       "</table>\n",
       "</div>"
      ],
      "text/plain": [
       "             target\n",
       "count  3.255340e+05\n",
       "mean   6.527900e+05\n",
       "std    1.795924e+06\n",
       "min    1.000000e+00\n",
       "25%    2.149000e+05\n",
       "50%    3.399000e+05\n",
       "75%    5.980000e+05\n",
       "max    1.950000e+08"
      ]
     },
     "execution_count": 22,
     "metadata": {},
     "output_type": "execute_result"
    }
   ],
   "source": [
    "# посмотрим на минимальное и максимальное значение стоимости\n",
    "\n",
    "display(data['target'].min())\n",
    "display(data['target'].max())\n",
    "\n",
    "data.describe()"
   ]
  },
  {
   "cell_type": "code",
   "execution_count": 23,
   "metadata": {},
   "outputs": [
    {
     "data": {
      "text/html": [
       "<div>\n",
       "<style scoped>\n",
       "    .dataframe tbody tr th:only-of-type {\n",
       "        vertical-align: middle;\n",
       "    }\n",
       "\n",
       "    .dataframe tbody tr th {\n",
       "        vertical-align: top;\n",
       "    }\n",
       "\n",
       "    .dataframe thead th {\n",
       "        text-align: right;\n",
       "    }\n",
       "</style>\n",
       "<table border=\"1\" class=\"dataframe\">\n",
       "  <thead>\n",
       "    <tr style=\"text-align: right;\">\n",
       "      <th></th>\n",
       "      <th>status</th>\n",
       "      <th>propertyType</th>\n",
       "      <th>baths</th>\n",
       "      <th>homeFacts</th>\n",
       "      <th>city</th>\n",
       "      <th>schools</th>\n",
       "      <th>sqft</th>\n",
       "      <th>zipcode</th>\n",
       "      <th>beds</th>\n",
       "      <th>state</th>\n",
       "      <th>target</th>\n",
       "    </tr>\n",
       "  </thead>\n",
       "  <tbody>\n",
       "    <tr>\n",
       "      <th>13550</th>\n",
       "      <td>Active</td>\n",
       "      <td>single family home</td>\n",
       "      <td>2</td>\n",
       "      <td>{'atAGlanceFacts': [{'factValue': '1940', 'fac...</td>\n",
       "      <td>Goodlettsville</td>\n",
       "      <td>[{'rating': ['3', '2', '3', '3', '2', '1', 'NR...</td>\n",
       "      <td>1596</td>\n",
       "      <td>37072</td>\n",
       "      <td>3.0</td>\n",
       "      <td>TN</td>\n",
       "      <td>1.0</td>\n",
       "    </tr>\n",
       "    <tr>\n",
       "      <th>22065</th>\n",
       "      <td>NaN</td>\n",
       "      <td>single family</td>\n",
       "      <td>1.0</td>\n",
       "      <td>{'atAGlanceFacts': [{'factValue': '1957', 'fac...</td>\n",
       "      <td>Indianapolis</td>\n",
       "      <td>[{'rating': ['2/10', 'NA', '1/10'], 'data': {'...</td>\n",
       "      <td>1,586</td>\n",
       "      <td>46224</td>\n",
       "      <td>3</td>\n",
       "      <td>IN</td>\n",
       "      <td>1.0</td>\n",
       "    </tr>\n",
       "    <tr>\n",
       "      <th>218423</th>\n",
       "      <td>Active</td>\n",
       "      <td>2 story</td>\n",
       "      <td>NaN</td>\n",
       "      <td>{'atAGlanceFacts': [{'factValue': '1920', 'fac...</td>\n",
       "      <td>Circleville</td>\n",
       "      <td>[{'rating': ['4', 'NR', '5', '5'], 'data': {'D...</td>\n",
       "      <td>1,771</td>\n",
       "      <td>43113</td>\n",
       "      <td>NaN</td>\n",
       "      <td>OH</td>\n",
       "      <td>1.0</td>\n",
       "    </tr>\n",
       "    <tr>\n",
       "      <th>221507</th>\n",
       "      <td>NaN</td>\n",
       "      <td>condo</td>\n",
       "      <td>3.0</td>\n",
       "      <td>{'atAGlanceFacts': [{'factValue': '1989', 'fac...</td>\n",
       "      <td>Indianapolis</td>\n",
       "      <td>[{'rating': ['4/10', '4/10', '3/10'], 'data': ...</td>\n",
       "      <td>1,780</td>\n",
       "      <td>46250</td>\n",
       "      <td>3</td>\n",
       "      <td>IN</td>\n",
       "      <td>1.0</td>\n",
       "    </tr>\n",
       "    <tr>\n",
       "      <th>239881</th>\n",
       "      <td>foreclosure</td>\n",
       "      <td>multi-family</td>\n",
       "      <td>3 Baths</td>\n",
       "      <td>{'atAGlanceFacts': [{'factValue': '1870', 'fac...</td>\n",
       "      <td>Cincinnati</td>\n",
       "      <td>[{'rating': ['4/10', '2/10', '1/10', '1/10', '...</td>\n",
       "      <td>3,226 sqft</td>\n",
       "      <td>45225</td>\n",
       "      <td>3 Beds</td>\n",
       "      <td>OH</td>\n",
       "      <td>1.0</td>\n",
       "    </tr>\n",
       "    <tr>\n",
       "      <th>249732</th>\n",
       "      <td>Active</td>\n",
       "      <td>NaN</td>\n",
       "      <td>1,750</td>\n",
       "      <td>{'atAGlanceFacts': [{'factValue': '', 'factLab...</td>\n",
       "      <td>Huntley</td>\n",
       "      <td>[{'rating': [], 'data': {'Distance': [], 'Grad...</td>\n",
       "      <td>NaN</td>\n",
       "      <td>60142</td>\n",
       "      <td>Baths</td>\n",
       "      <td>IL</td>\n",
       "      <td>1.0</td>\n",
       "    </tr>\n",
       "    <tr>\n",
       "      <th>249818</th>\n",
       "      <td>foreclosure</td>\n",
       "      <td>single-family home</td>\n",
       "      <td>2 Baths</td>\n",
       "      <td>{'atAGlanceFacts': [{'factValue': '1940', 'fac...</td>\n",
       "      <td>Goodlettsville</td>\n",
       "      <td>[{'rating': ['3/10', '2/10', '3/10'], 'data': ...</td>\n",
       "      <td>1,596 sqft</td>\n",
       "      <td>37072</td>\n",
       "      <td>3 Beds</td>\n",
       "      <td>TN</td>\n",
       "      <td>1.0</td>\n",
       "    </tr>\n",
       "    <tr>\n",
       "      <th>262585</th>\n",
       "      <td>foreclosure</td>\n",
       "      <td>single-family home</td>\n",
       "      <td>NaN</td>\n",
       "      <td>{'atAGlanceFacts': [{'factValue': '1957', 'fac...</td>\n",
       "      <td>Indianapolis</td>\n",
       "      <td>[{'rating': ['2/10'], 'data': {'Distance': ['0...</td>\n",
       "      <td>1,586 sqft</td>\n",
       "      <td>46224</td>\n",
       "      <td>3 Beds</td>\n",
       "      <td>IN</td>\n",
       "      <td>1.0</td>\n",
       "    </tr>\n",
       "    <tr>\n",
       "      <th>277609</th>\n",
       "      <td>foreclosure</td>\n",
       "      <td>condo</td>\n",
       "      <td>3 Baths</td>\n",
       "      <td>{'atAGlanceFacts': [{'factValue': '1989', 'fac...</td>\n",
       "      <td>Indianapolis</td>\n",
       "      <td>[{'rating': ['4/10', '3/10', '4/10'], 'data': ...</td>\n",
       "      <td>1,780 sqft</td>\n",
       "      <td>46250</td>\n",
       "      <td>3 Beds</td>\n",
       "      <td>IN</td>\n",
       "      <td>1.0</td>\n",
       "    </tr>\n",
       "  </tbody>\n",
       "</table>\n",
       "</div>"
      ],
      "text/plain": [
       "             status        propertyType    baths   \n",
       "13550        Active  single family home        2  \\\n",
       "22065           NaN       single family      1.0   \n",
       "218423       Active             2 story      NaN   \n",
       "221507          NaN               condo      3.0   \n",
       "239881  foreclosure        multi-family  3 Baths   \n",
       "249732       Active                 NaN    1,750   \n",
       "249818  foreclosure  single-family home  2 Baths   \n",
       "262585  foreclosure  single-family home      NaN   \n",
       "277609  foreclosure               condo  3 Baths   \n",
       "\n",
       "                                                homeFacts            city   \n",
       "13550   {'atAGlanceFacts': [{'factValue': '1940', 'fac...  Goodlettsville  \\\n",
       "22065   {'atAGlanceFacts': [{'factValue': '1957', 'fac...    Indianapolis   \n",
       "218423  {'atAGlanceFacts': [{'factValue': '1920', 'fac...     Circleville   \n",
       "221507  {'atAGlanceFacts': [{'factValue': '1989', 'fac...    Indianapolis   \n",
       "239881  {'atAGlanceFacts': [{'factValue': '1870', 'fac...      Cincinnati   \n",
       "249732  {'atAGlanceFacts': [{'factValue': '', 'factLab...         Huntley   \n",
       "249818  {'atAGlanceFacts': [{'factValue': '1940', 'fac...  Goodlettsville   \n",
       "262585  {'atAGlanceFacts': [{'factValue': '1957', 'fac...    Indianapolis   \n",
       "277609  {'atAGlanceFacts': [{'factValue': '1989', 'fac...    Indianapolis   \n",
       "\n",
       "                                                  schools        sqft zipcode   \n",
       "13550   [{'rating': ['3', '2', '3', '3', '2', '1', 'NR...        1596   37072  \\\n",
       "22065   [{'rating': ['2/10', 'NA', '1/10'], 'data': {'...       1,586   46224   \n",
       "218423  [{'rating': ['4', 'NR', '5', '5'], 'data': {'D...       1,771   43113   \n",
       "221507  [{'rating': ['4/10', '4/10', '3/10'], 'data': ...       1,780   46250   \n",
       "239881  [{'rating': ['4/10', '2/10', '1/10', '1/10', '...  3,226 sqft   45225   \n",
       "249732  [{'rating': [], 'data': {'Distance': [], 'Grad...         NaN   60142   \n",
       "249818  [{'rating': ['3/10', '2/10', '3/10'], 'data': ...  1,596 sqft   37072   \n",
       "262585  [{'rating': ['2/10'], 'data': {'Distance': ['0...  1,586 sqft   46224   \n",
       "277609  [{'rating': ['4/10', '3/10', '4/10'], 'data': ...  1,780 sqft   46250   \n",
       "\n",
       "          beds state  target  \n",
       "13550      3.0    TN     1.0  \n",
       "22065        3    IN     1.0  \n",
       "218423     NaN    OH     1.0  \n",
       "221507       3    IN     1.0  \n",
       "239881  3 Beds    OH     1.0  \n",
       "249732   Baths    IL     1.0  \n",
       "249818  3 Beds    TN     1.0  \n",
       "262585  3 Beds    IN     1.0  \n",
       "277609  3 Beds    IN     1.0  "
      ]
     },
     "metadata": {},
     "output_type": "display_data"
    },
    {
     "data": {
      "text/html": [
       "<div>\n",
       "<style scoped>\n",
       "    .dataframe tbody tr th:only-of-type {\n",
       "        vertical-align: middle;\n",
       "    }\n",
       "\n",
       "    .dataframe tbody tr th {\n",
       "        vertical-align: top;\n",
       "    }\n",
       "\n",
       "    .dataframe thead th {\n",
       "        text-align: right;\n",
       "    }\n",
       "</style>\n",
       "<table border=\"1\" class=\"dataframe\">\n",
       "  <thead>\n",
       "    <tr style=\"text-align: right;\">\n",
       "      <th></th>\n",
       "      <th>status</th>\n",
       "      <th>propertyType</th>\n",
       "      <th>baths</th>\n",
       "      <th>homeFacts</th>\n",
       "      <th>city</th>\n",
       "      <th>schools</th>\n",
       "      <th>sqft</th>\n",
       "      <th>zipcode</th>\n",
       "      <th>beds</th>\n",
       "      <th>state</th>\n",
       "      <th>target</th>\n",
       "    </tr>\n",
       "  </thead>\n",
       "  <tbody>\n",
       "    <tr>\n",
       "      <th>114628</th>\n",
       "      <td>For sale</td>\n",
       "      <td>single family</td>\n",
       "      <td>18.0</td>\n",
       "      <td>{'atAGlanceFacts': [{'factValue': '1935', 'fac...</td>\n",
       "      <td>Los Angeles</td>\n",
       "      <td>[{'rating': ['10/10', '7/10'], 'data': {'Dista...</td>\n",
       "      <td>--</td>\n",
       "      <td>90077</td>\n",
       "      <td>11</td>\n",
       "      <td>CA</td>\n",
       "      <td>195000000.0</td>\n",
       "    </tr>\n",
       "  </tbody>\n",
       "</table>\n",
       "</div>"
      ],
      "text/plain": [
       "          status   propertyType baths   \n",
       "114628  For sale  single family  18.0  \\\n",
       "\n",
       "                                                homeFacts         city   \n",
       "114628  {'atAGlanceFacts': [{'factValue': '1935', 'fac...  Los Angeles  \\\n",
       "\n",
       "                                                  schools sqft zipcode beds   \n",
       "114628  [{'rating': ['10/10', '7/10'], 'data': {'Dista...   --   90077   11  \\\n",
       "\n",
       "       state       target  \n",
       "114628    CA  195000000.0  "
      ]
     },
     "metadata": {},
     "output_type": "display_data"
    },
    {
     "data": {
      "text/html": [
       "<div>\n",
       "<style scoped>\n",
       "    .dataframe tbody tr th:only-of-type {\n",
       "        vertical-align: middle;\n",
       "    }\n",
       "\n",
       "    .dataframe tbody tr th {\n",
       "        vertical-align: top;\n",
       "    }\n",
       "\n",
       "    .dataframe thead th {\n",
       "        text-align: right;\n",
       "    }\n",
       "</style>\n",
       "<table border=\"1\" class=\"dataframe\">\n",
       "  <thead>\n",
       "    <tr style=\"text-align: right;\">\n",
       "      <th></th>\n",
       "      <th>status</th>\n",
       "      <th>propertyType</th>\n",
       "      <th>baths</th>\n",
       "      <th>homeFacts</th>\n",
       "      <th>city</th>\n",
       "      <th>schools</th>\n",
       "      <th>sqft</th>\n",
       "      <th>zipcode</th>\n",
       "      <th>beds</th>\n",
       "      <th>state</th>\n",
       "      <th>target</th>\n",
       "    </tr>\n",
       "  </thead>\n",
       "  <tbody>\n",
       "    <tr>\n",
       "      <th>153825</th>\n",
       "      <td>Active</td>\n",
       "      <td>NaN</td>\n",
       "      <td>1,500</td>\n",
       "      <td>{'atAGlanceFacts': [{'factValue': '', 'factLab...</td>\n",
       "      <td>Dania Beach</td>\n",
       "      <td>[{'rating': ['4', '4', '3'], 'data': {'Distanc...</td>\n",
       "      <td>NaN</td>\n",
       "      <td>33312</td>\n",
       "      <td>Baths</td>\n",
       "      <td>FL</td>\n",
       "      <td>3.0</td>\n",
       "    </tr>\n",
       "  </tbody>\n",
       "</table>\n",
       "</div>"
      ],
      "text/plain": [
       "        status propertyType  baths   \n",
       "153825  Active          NaN  1,500  \\\n",
       "\n",
       "                                                homeFacts         city   \n",
       "153825  {'atAGlanceFacts': [{'factValue': '', 'factLab...  Dania Beach  \\\n",
       "\n",
       "                                                  schools sqft zipcode   beds   \n",
       "153825  [{'rating': ['4', '4', '3'], 'data': {'Distanc...  NaN   33312  Baths  \\\n",
       "\n",
       "       state  target  \n",
       "153825    FL     3.0  "
      ]
     },
     "metadata": {},
     "output_type": "display_data"
    },
    {
     "data": {
      "text/html": [
       "<div>\n",
       "<style scoped>\n",
       "    .dataframe tbody tr th:only-of-type {\n",
       "        vertical-align: middle;\n",
       "    }\n",
       "\n",
       "    .dataframe tbody tr th {\n",
       "        vertical-align: top;\n",
       "    }\n",
       "\n",
       "    .dataframe thead th {\n",
       "        text-align: right;\n",
       "    }\n",
       "</style>\n",
       "<table border=\"1\" class=\"dataframe\">\n",
       "  <thead>\n",
       "    <tr style=\"text-align: right;\">\n",
       "      <th></th>\n",
       "      <th>status</th>\n",
       "      <th>propertyType</th>\n",
       "      <th>baths</th>\n",
       "      <th>homeFacts</th>\n",
       "      <th>city</th>\n",
       "      <th>schools</th>\n",
       "      <th>sqft</th>\n",
       "      <th>zipcode</th>\n",
       "      <th>beds</th>\n",
       "      <th>state</th>\n",
       "      <th>target</th>\n",
       "    </tr>\n",
       "  </thead>\n",
       "  <tbody>\n",
       "    <tr>\n",
       "      <th>124218</th>\n",
       "      <td>for sale</td>\n",
       "      <td>single-family home</td>\n",
       "      <td>23 Baths</td>\n",
       "      <td>{'atAGlanceFacts': [{'factValue': '1998', 'fac...</td>\n",
       "      <td>Beverly Hills</td>\n",
       "      <td>[{'rating': ['7/10', '5/10', '10/10'], 'data':...</td>\n",
       "      <td>28,660 sqft</td>\n",
       "      <td>90210</td>\n",
       "      <td>20 Beds</td>\n",
       "      <td>CA</td>\n",
       "      <td>165000000.0</td>\n",
       "    </tr>\n",
       "    <tr>\n",
       "      <th>247122</th>\n",
       "      <td>For sale</td>\n",
       "      <td>single family</td>\n",
       "      <td>23.0</td>\n",
       "      <td>{'atAGlanceFacts': [{'factValue': '1998', 'fac...</td>\n",
       "      <td>Beverly Hills</td>\n",
       "      <td>[{'rating': ['10/10', '5/10', '7/10'], 'data':...</td>\n",
       "      <td>28,660</td>\n",
       "      <td>90210</td>\n",
       "      <td>20</td>\n",
       "      <td>CA</td>\n",
       "      <td>165000000.0</td>\n",
       "    </tr>\n",
       "  </tbody>\n",
       "</table>\n",
       "</div>"
      ],
      "text/plain": [
       "          status        propertyType     baths   \n",
       "124218  for sale  single-family home  23 Baths  \\\n",
       "247122  For sale       single family      23.0   \n",
       "\n",
       "                                                homeFacts           city   \n",
       "124218  {'atAGlanceFacts': [{'factValue': '1998', 'fac...  Beverly Hills  \\\n",
       "247122  {'atAGlanceFacts': [{'factValue': '1998', 'fac...  Beverly Hills   \n",
       "\n",
       "                                                  schools         sqft   \n",
       "124218  [{'rating': ['7/10', '5/10', '10/10'], 'data':...  28,660 sqft  \\\n",
       "247122  [{'rating': ['10/10', '5/10', '7/10'], 'data':...       28,660   \n",
       "\n",
       "       zipcode     beds state       target  \n",
       "124218   90210  20 Beds    CA  165000000.0  \n",
       "247122   90210       20    CA  165000000.0  "
      ]
     },
     "metadata": {},
     "output_type": "display_data"
    }
   ],
   "source": [
    "display(data[data['target']==1])\n",
    "\n",
    "display(data[data['target']==195000000.0])\n",
    "\n",
    "display(data[data['target']==3])\n",
    "\n",
    "display(data[data['target']==165000000.0])"
   ]
  },
  {
   "cell_type": "markdown",
   "metadata": {},
   "source": [
    "Для перечня недвижимости по цене 1$, 3$, 29$, 393$ и 195000000$ проверим наличие информации о стоимости за 1 sqft в признаке homeFacts. Если она есть, заполним соответствующим значением."
   ]
  },
  {
   "cell_type": "code",
   "execution_count": 24,
   "metadata": {},
   "outputs": [],
   "source": [
    "#data['homeFacts'][277609]"
   ]
  },
  {
   "cell_type": "markdown",
   "metadata": {},
   "source": [
    "Информации не оказалось, поэтому удалим эти строки. Удалим также строки, где значение целевой переменной 500 и 600$ (3 строки), так как эта недвижимость не для аренды, а значит, цена не соответствует."
   ]
  },
  {
   "cell_type": "code",
   "execution_count": 25,
   "metadata": {},
   "outputs": [
    {
     "data": {
      "text/plain": [
       "700.0"
      ]
     },
     "metadata": {},
     "output_type": "display_data"
    },
    {
     "data": {
      "text/plain": [
       "165000000.0"
      ]
     },
     "metadata": {},
     "output_type": "display_data"
    },
    {
     "data": {
      "text/html": [
       "<div>\n",
       "<style scoped>\n",
       "    .dataframe tbody tr th:only-of-type {\n",
       "        vertical-align: middle;\n",
       "    }\n",
       "\n",
       "    .dataframe tbody tr th {\n",
       "        vertical-align: top;\n",
       "    }\n",
       "\n",
       "    .dataframe thead th {\n",
       "        text-align: right;\n",
       "    }\n",
       "</style>\n",
       "<table border=\"1\" class=\"dataframe\">\n",
       "  <thead>\n",
       "    <tr style=\"text-align: right;\">\n",
       "      <th></th>\n",
       "      <th>target</th>\n",
       "    </tr>\n",
       "  </thead>\n",
       "  <tbody>\n",
       "    <tr>\n",
       "      <th>count</th>\n",
       "      <td>3.255160e+05</td>\n",
       "    </tr>\n",
       "    <tr>\n",
       "      <th>mean</th>\n",
       "      <td>6.522270e+05</td>\n",
       "    </tr>\n",
       "    <tr>\n",
       "      <th>std</th>\n",
       "      <td>1.763368e+06</td>\n",
       "    </tr>\n",
       "    <tr>\n",
       "      <th>min</th>\n",
       "      <td>7.000000e+02</td>\n",
       "    </tr>\n",
       "    <tr>\n",
       "      <th>25%</th>\n",
       "      <td>2.149000e+05</td>\n",
       "    </tr>\n",
       "    <tr>\n",
       "      <th>50%</th>\n",
       "      <td>3.399000e+05</td>\n",
       "    </tr>\n",
       "    <tr>\n",
       "      <th>75%</th>\n",
       "      <td>5.980000e+05</td>\n",
       "    </tr>\n",
       "    <tr>\n",
       "      <th>max</th>\n",
       "      <td>1.650000e+08</td>\n",
       "    </tr>\n",
       "  </tbody>\n",
       "</table>\n",
       "</div>"
      ],
      "text/plain": [
       "             target\n",
       "count  3.255160e+05\n",
       "mean   6.522270e+05\n",
       "std    1.763368e+06\n",
       "min    7.000000e+02\n",
       "25%    2.149000e+05\n",
       "50%    3.399000e+05\n",
       "75%    5.980000e+05\n",
       "max    1.650000e+08"
      ]
     },
     "execution_count": 25,
     "metadata": {},
     "output_type": "execute_result"
    }
   ],
   "source": [
    "data = data[(data.target != 1) & (data.target != 195000000) & (data.target != 3) & (data.target != 29) & (data.target != 393) & (data.target != 500) & (data.target != 600)]\n",
    "\n",
    "display(data['target'].min())\n",
    "display(data['target'].max())\n",
    "\n",
    "data.describe()"
   ]
  },
  {
   "cell_type": "markdown",
   "metadata": {},
   "source": [
    "Недвижимость за 700$ предназначена для найма, т.е. цена указана за месяц.\n",
    "По двум объектам на Беверли Хиллз за 165000000$ видим, что это дубликат - информация об одном и том же объекте недвижимости. Удалим одну из строк. Другую оставим, цена за sqft соответствует."
   ]
  },
  {
   "cell_type": "code",
   "execution_count": 26,
   "metadata": {},
   "outputs": [
    {
     "data": {
      "text/html": [
       "<div>\n",
       "<style scoped>\n",
       "    .dataframe tbody tr th:only-of-type {\n",
       "        vertical-align: middle;\n",
       "    }\n",
       "\n",
       "    .dataframe tbody tr th {\n",
       "        vertical-align: top;\n",
       "    }\n",
       "\n",
       "    .dataframe thead th {\n",
       "        text-align: right;\n",
       "    }\n",
       "</style>\n",
       "<table border=\"1\" class=\"dataframe\">\n",
       "  <thead>\n",
       "    <tr style=\"text-align: right;\">\n",
       "      <th></th>\n",
       "      <th>status</th>\n",
       "      <th>propertyType</th>\n",
       "      <th>baths</th>\n",
       "      <th>homeFacts</th>\n",
       "      <th>city</th>\n",
       "      <th>schools</th>\n",
       "      <th>sqft</th>\n",
       "      <th>zipcode</th>\n",
       "      <th>beds</th>\n",
       "      <th>state</th>\n",
       "      <th>target</th>\n",
       "    </tr>\n",
       "  </thead>\n",
       "  <tbody>\n",
       "    <tr>\n",
       "      <th>247122</th>\n",
       "      <td>For sale</td>\n",
       "      <td>single family</td>\n",
       "      <td>23.0</td>\n",
       "      <td>{'atAGlanceFacts': [{'factValue': '1998', 'fac...</td>\n",
       "      <td>Beverly Hills</td>\n",
       "      <td>[{'rating': ['10/10', '5/10', '7/10'], 'data':...</td>\n",
       "      <td>28,660</td>\n",
       "      <td>90210</td>\n",
       "      <td>20</td>\n",
       "      <td>CA</td>\n",
       "      <td>165000000.0</td>\n",
       "    </tr>\n",
       "  </tbody>\n",
       "</table>\n",
       "</div>"
      ],
      "text/plain": [
       "          status   propertyType baths   \n",
       "247122  For sale  single family  23.0  \\\n",
       "\n",
       "                                                homeFacts           city   \n",
       "247122  {'atAGlanceFacts': [{'factValue': '1998', 'fac...  Beverly Hills  \\\n",
       "\n",
       "                                                  schools    sqft zipcode   \n",
       "247122  [{'rating': ['10/10', '5/10', '7/10'], 'data':...  28,660   90210  \\\n",
       "\n",
       "       beds state       target  \n",
       "247122   20    CA  165000000.0  "
      ]
     },
     "execution_count": 26,
     "metadata": {},
     "output_type": "execute_result"
    }
   ],
   "source": [
    "data = data.drop(index=124218)\n",
    "data[data['target']==165000000]"
   ]
  },
  {
   "cell_type": "markdown",
   "metadata": {},
   "source": [
    "Преобразуем в числовой тип столбцы baths, sqft, beds."
   ]
  },
  {
   "cell_type": "code",
   "execution_count": 28,
   "metadata": {},
   "outputs": [
    {
     "data": {
      "text/plain": [
       "225"
      ]
     },
     "execution_count": 28,
     "metadata": {},
     "output_type": "execute_result"
    }
   ],
   "source": [
    "# количество уникальных значений в столбце\n",
    "data['baths'].nunique()"
   ]
  },
  {
   "cell_type": "code",
   "execution_count": 29,
   "metadata": {},
   "outputs": [
    {
     "data": {
      "text/html": [
       "<div>\n",
       "<style scoped>\n",
       "    .dataframe tbody tr th:only-of-type {\n",
       "        vertical-align: middle;\n",
       "    }\n",
       "\n",
       "    .dataframe tbody tr th {\n",
       "        vertical-align: top;\n",
       "    }\n",
       "\n",
       "    .dataframe thead th {\n",
       "        text-align: right;\n",
       "    }\n",
       "</style>\n",
       "<table border=\"1\" class=\"dataframe\">\n",
       "  <thead>\n",
       "    <tr style=\"text-align: right;\">\n",
       "      <th></th>\n",
       "      <th>status</th>\n",
       "      <th>propertyType</th>\n",
       "      <th>baths</th>\n",
       "      <th>homeFacts</th>\n",
       "      <th>city</th>\n",
       "      <th>schools</th>\n",
       "      <th>sqft</th>\n",
       "      <th>zipcode</th>\n",
       "      <th>beds</th>\n",
       "      <th>state</th>\n",
       "      <th>target</th>\n",
       "    </tr>\n",
       "  </thead>\n",
       "  <tbody>\n",
       "    <tr>\n",
       "      <th>0</th>\n",
       "      <td>Active</td>\n",
       "      <td>single family home</td>\n",
       "      <td>3.0</td>\n",
       "      <td>{'atAGlanceFacts': [{'factValue': '2019', 'fac...</td>\n",
       "      <td>Southern Pines</td>\n",
       "      <td>[{'rating': ['4', '4', '7', 'NR', '4', '7', 'N...</td>\n",
       "      <td>2900</td>\n",
       "      <td>28387</td>\n",
       "      <td>4</td>\n",
       "      <td>NC</td>\n",
       "      <td>418000.0</td>\n",
       "    </tr>\n",
       "    <tr>\n",
       "      <th>1</th>\n",
       "      <td>for sale</td>\n",
       "      <td>single-family home</td>\n",
       "      <td>3.0</td>\n",
       "      <td>{'atAGlanceFacts': [{'factValue': '2019', 'fac...</td>\n",
       "      <td>Spokane Valley</td>\n",
       "      <td>[{'rating': ['4/10', 'None/10', '4/10'], 'data...</td>\n",
       "      <td>1,947 sqft</td>\n",
       "      <td>99216</td>\n",
       "      <td>3 Beds</td>\n",
       "      <td>WA</td>\n",
       "      <td>310000.0</td>\n",
       "    </tr>\n",
       "    <tr>\n",
       "      <th>2</th>\n",
       "      <td>for sale</td>\n",
       "      <td>single-family home</td>\n",
       "      <td>2.0</td>\n",
       "      <td>{'atAGlanceFacts': [{'factValue': '1961', 'fac...</td>\n",
       "      <td>Los Angeles</td>\n",
       "      <td>[{'rating': ['8/10', '4/10', '8/10'], 'data': ...</td>\n",
       "      <td>3,000 sqft</td>\n",
       "      <td>90049</td>\n",
       "      <td>3 Beds</td>\n",
       "      <td>CA</td>\n",
       "      <td>2895000.0</td>\n",
       "    </tr>\n",
       "    <tr>\n",
       "      <th>3</th>\n",
       "      <td>for sale</td>\n",
       "      <td>single-family home</td>\n",
       "      <td>8.0</td>\n",
       "      <td>{'atAGlanceFacts': [{'factValue': '2006', 'fac...</td>\n",
       "      <td>Dallas</td>\n",
       "      <td>[{'rating': ['9/10', '9/10', '10/10', '9/10'],...</td>\n",
       "      <td>6,457 sqft</td>\n",
       "      <td>75205</td>\n",
       "      <td>5 Beds</td>\n",
       "      <td>TX</td>\n",
       "      <td>2395000.0</td>\n",
       "    </tr>\n",
       "    <tr>\n",
       "      <th>4</th>\n",
       "      <td>for sale</td>\n",
       "      <td>townhouse</td>\n",
       "      <td>NaN</td>\n",
       "      <td>{'atAGlanceFacts': [{'factValue': '1920', 'fac...</td>\n",
       "      <td>Philadelphia</td>\n",
       "      <td>[{'rating': [], 'data': {'Distance': [], 'Grad...</td>\n",
       "      <td>897 sqft</td>\n",
       "      <td>19145</td>\n",
       "      <td>2 Beds</td>\n",
       "      <td>PA</td>\n",
       "      <td>209000.0</td>\n",
       "    </tr>\n",
       "  </tbody>\n",
       "</table>\n",
       "</div>"
      ],
      "text/plain": [
       "     status        propertyType  baths   \n",
       "0    Active  single family home    3.0  \\\n",
       "1  for sale  single-family home    3.0   \n",
       "2  for sale  single-family home    2.0   \n",
       "3  for sale  single-family home    8.0   \n",
       "4  for sale           townhouse    NaN   \n",
       "\n",
       "                                           homeFacts            city   \n",
       "0  {'atAGlanceFacts': [{'factValue': '2019', 'fac...  Southern Pines  \\\n",
       "1  {'atAGlanceFacts': [{'factValue': '2019', 'fac...  Spokane Valley   \n",
       "2  {'atAGlanceFacts': [{'factValue': '1961', 'fac...     Los Angeles   \n",
       "3  {'atAGlanceFacts': [{'factValue': '2006', 'fac...          Dallas   \n",
       "4  {'atAGlanceFacts': [{'factValue': '1920', 'fac...    Philadelphia   \n",
       "\n",
       "                                             schools        sqft zipcode   \n",
       "0  [{'rating': ['4', '4', '7', 'NR', '4', '7', 'N...        2900   28387  \\\n",
       "1  [{'rating': ['4/10', 'None/10', '4/10'], 'data...  1,947 sqft   99216   \n",
       "2  [{'rating': ['8/10', '4/10', '8/10'], 'data': ...  3,000 sqft   90049   \n",
       "3  [{'rating': ['9/10', '9/10', '10/10', '9/10'],...  6,457 sqft   75205   \n",
       "4  [{'rating': [], 'data': {'Distance': [], 'Grad...    897 sqft   19145   \n",
       "\n",
       "     beds state     target  \n",
       "0       4    NC   418000.0  \n",
       "1  3 Beds    WA   310000.0  \n",
       "2  3 Beds    CA  2895000.0  \n",
       "3  5 Beds    TX  2395000.0  \n",
       "4  2 Beds    PA   209000.0  "
      ]
     },
     "metadata": {},
     "output_type": "display_data"
    },
    {
     "data": {
      "text/plain": [
       "49"
      ]
     },
     "execution_count": 29,
     "metadata": {},
     "output_type": "execute_result"
    }
   ],
   "source": [
    "# преобразование столбца baths\n",
    "\n",
    "data['baths'] = data['baths'].str.lower() # переводим текст в нижний регистр\n",
    "\n",
    "data['baths'] = data['baths'].apply(lambda x: x if x is np.nan else x.strip('+' ' ')) # удаляем значки в начале и конце строк\n",
    "\n",
    "data['baths'] = data['baths'].apply(lambda x: x if x is np.nan else (x.split(' ')[1] if x.startswith('bath') else x.split(' ')[0])) # выбираем из строки кол-во ванных комнат\n",
    "\n",
    "data['baths'] = data['baths'].apply(lambda x: x if x is np.nan else x.split(',')[0]) # для значений, разделенных запятой, оставляем первую цифру\n",
    "\n",
    "data['baths'] = data['baths'].apply(lambda x: x if x is np.nan else x.split('-')[0]) # для значений, разделенных тире, оставляем первую цифру\n",
    "\n",
    "data['baths'] = data['baths'].apply(lambda x: np.nan if (x=='~' or x=='sq.' or x=='--' or x=='—' or x=='semimod' or x=='') else x) # заменяем на nan значения строк, где не оказалось чисел (по факту это пропуски в данных)\n",
    "\n",
    "data['baths'] = data['baths'].astype(float) # преобразуем столбец к типу float\n",
    "\n",
    "data['baths'] = data['baths'].apply(np.floor) #округлим до целого дробные значения количества ванных комнат\n",
    "\n",
    "display(data.head())\n",
    "data['baths'].nunique()\n"
   ]
  },
  {
   "cell_type": "code",
   "execution_count": 30,
   "metadata": {},
   "outputs": [
    {
     "data": {
      "text/plain": [
       "baths\n",
       "2.0      118103\n",
       "3.0       72028\n",
       "4.0       27584\n",
       "1.0       24766\n",
       "5.0        9931\n",
       "6.0        4475\n",
       "7.0        2152\n",
       "8.0        1185\n",
       "9.0         550\n",
       "10.0        341\n",
       "750.0       237\n",
       "0.0         198\n",
       "11.0        189\n",
       "12.0        137\n",
       "13.0         74\n",
       "16.0         52\n",
       "14.0         46\n",
       "18.0         31\n",
       "15.0         28\n",
       "24.0         17\n",
       "20.0         15\n",
       "22.0         10\n",
       "17.0         10\n",
       "26.0          8\n",
       "23.0          7\n",
       "30.0          6\n",
       "27.0          5\n",
       "40.0          4\n",
       "21.0          4\n",
       "36.0          3\n",
       "44.0          3\n",
       "19.0          3\n",
       "32.0          3\n",
       "29.0          2\n",
       "34.0          2\n",
       "28.0          2\n",
       "60.0          1\n",
       "39.0          1\n",
       "64.0          1\n",
       "42.0          1\n",
       "43.0          1\n",
       "41.0          1\n",
       "25.0          1\n",
       "55.0          1\n",
       "241.0         1\n",
       "76.0          1\n",
       "116.0         1\n",
       "35.0          1\n",
       "68.0          1\n",
       "Name: count, dtype: int64"
      ]
     },
     "execution_count": 30,
     "metadata": {},
     "output_type": "execute_result"
    }
   ],
   "source": [
    "#посмотрим на значения в столбце baths\n",
    "\n",
    "data['baths'].value_counts()"
   ]
  },
  {
   "cell_type": "markdown",
   "metadata": {},
   "source": [
    "Видим, что есть количество 0, 116, 241, 750. \n",
    "* Нули заменим на nan, т.к. это пропуски.\n",
    "* Проверим объекты со 116, 241 и 750 ванными комнатами"
   ]
  },
  {
   "cell_type": "markdown",
   "metadata": {},
   "source": [
    "Дом со 116 ванными комнатами многоквартирный, площадь и стоимость соответствуют заполненным данным.\n",
    "\n",
    "Дом с 241 ванной предназначен для одной семьи, считаем ошибкой, заполняем nan\n",
    "\n",
    "В объектах с 750 ванными явно какая-то путаница, так как во многих строках признак beds заполнен словом baths. Однако площадь и цена на первый взгляд заполнены корректно, поэтому удалять строки не будем, а заполним значениями nan"
   ]
  },
  {
   "cell_type": "code",
   "execution_count": 31,
   "metadata": {},
   "outputs": [],
   "source": [
    "data.loc[(data['baths']==0) | (data['baths']==750) | (data['baths']==241), ['baths']] = np.nan"
   ]
  },
  {
   "cell_type": "code",
   "execution_count": 32,
   "metadata": {},
   "outputs": [
    {
     "data": {
      "text/plain": [
       "24898"
      ]
     },
     "execution_count": 32,
     "metadata": {},
     "output_type": "execute_result"
    }
   ],
   "source": [
    "# преобразуем площадь\n",
    "\n",
    "data['sqft'].nunique() # количество уникальных значений"
   ]
  },
  {
   "cell_type": "code",
   "execution_count": 33,
   "metadata": {},
   "outputs": [],
   "source": [
    "# вспомогательный код для проверки отдельных значений\n",
    "\n",
    "# data[data['sqft'].str.contains('610-840', na=False)]"
   ]
  },
  {
   "cell_type": "code",
   "execution_count": 34,
   "metadata": {},
   "outputs": [
    {
     "data": {
      "text/plain": [
       "9480"
      ]
     },
     "execution_count": 34,
     "metadata": {},
     "output_type": "execute_result"
    }
   ],
   "source": [
    "\n",
    "data['sqft'] = data['sqft'].apply(lambda x: x if x is np.nan else (x.split(' ')[-2] if len(x.split(' '))>=2 else x.split(' ')[0]))\n",
    "\n",
    "data['sqft'] = data['sqft'].apply(lambda x: x if x is np.nan else x.split(','))\n",
    "data['sqft'] = data['sqft'].apply(lambda x: x if x is np.nan else ''.join(x))\n",
    "\n",
    "data['sqft'] = data['sqft'].apply(lambda x: np.nan if (x=='--') else x) # заменяем на nan значения строк, где не оказалось чисел (по факту это пропуски в данных)\n",
    "data.loc[data['sqft']=='610-840', ['sqft']]=725 # заполним значение, заданное диапазоном, средним\n",
    "\n",
    "data['sqft'] = data['sqft'].astype(float) # преобразуем столбец к типу float\n",
    "\n",
    "data['sqft'].nunique()"
   ]
  },
  {
   "cell_type": "markdown",
   "metadata": {},
   "source": [
    "У самого дорогого объекта недвижимости площадь составляет 28660 sqft, также много объектов, где площадь очень мала.\n",
    "\n",
    "Удалим объекты, где площадь меньше 100 и больше 28660 sqft\n",
    "\n",
    "Заметим, что для недвижимости с типом coop (квартира в жилищном кооперативе) прослеживается несоответствие площади и стоимости жилья. Возможно, для части позиций указана площадь всего кооператива, а стоимость конкретной квартиры."
   ]
  },
  {
   "cell_type": "code",
   "execution_count": 35,
   "metadata": {},
   "outputs": [],
   "source": [
    "# чтобы посмотреть инфо по квартирам coop\n",
    "\n",
    "#data[(data['propertyType'].str.contains('coop', na=False))]"
   ]
  },
  {
   "cell_type": "code",
   "execution_count": 36,
   "metadata": {},
   "outputs": [
    {
     "data": {
      "text/html": [
       "<div>\n",
       "<style scoped>\n",
       "    .dataframe tbody tr th:only-of-type {\n",
       "        vertical-align: middle;\n",
       "    }\n",
       "\n",
       "    .dataframe tbody tr th {\n",
       "        vertical-align: top;\n",
       "    }\n",
       "\n",
       "    .dataframe thead th {\n",
       "        text-align: right;\n",
       "    }\n",
       "</style>\n",
       "<table border=\"1\" class=\"dataframe\">\n",
       "  <thead>\n",
       "    <tr style=\"text-align: right;\">\n",
       "      <th></th>\n",
       "      <th>baths</th>\n",
       "      <th>sqft</th>\n",
       "      <th>target</th>\n",
       "    </tr>\n",
       "  </thead>\n",
       "  <tbody>\n",
       "    <tr>\n",
       "      <th>count</th>\n",
       "      <td>256654.000000</td>\n",
       "      <td>315088.000000</td>\n",
       "      <td>3.150880e+05</td>\n",
       "    </tr>\n",
       "    <tr>\n",
       "      <th>mean</th>\n",
       "      <td>2.702853</td>\n",
       "      <td>2189.806245</td>\n",
       "      <td>6.383304e+05</td>\n",
       "    </tr>\n",
       "    <tr>\n",
       "      <th>std</th>\n",
       "      <td>1.396610</td>\n",
       "      <td>1512.986531</td>\n",
       "      <td>1.593972e+06</td>\n",
       "    </tr>\n",
       "    <tr>\n",
       "      <th>min</th>\n",
       "      <td>1.000000</td>\n",
       "      <td>100.000000</td>\n",
       "      <td>7.000000e+02</td>\n",
       "    </tr>\n",
       "    <tr>\n",
       "      <th>25%</th>\n",
       "      <td>2.000000</td>\n",
       "      <td>1300.000000</td>\n",
       "      <td>2.150000e+05</td>\n",
       "    </tr>\n",
       "    <tr>\n",
       "      <th>50%</th>\n",
       "      <td>2.000000</td>\n",
       "      <td>1839.000000</td>\n",
       "      <td>3.399000e+05</td>\n",
       "    </tr>\n",
       "    <tr>\n",
       "      <th>75%</th>\n",
       "      <td>3.000000</td>\n",
       "      <td>2614.000000</td>\n",
       "      <td>5.950000e+05</td>\n",
       "    </tr>\n",
       "    <tr>\n",
       "      <th>max</th>\n",
       "      <td>60.000000</td>\n",
       "      <td>28660.000000</td>\n",
       "      <td>1.650000e+08</td>\n",
       "    </tr>\n",
       "  </tbody>\n",
       "</table>\n",
       "</div>"
      ],
      "text/plain": [
       "               baths           sqft        target\n",
       "count  256654.000000  315088.000000  3.150880e+05\n",
       "mean        2.702853    2189.806245  6.383304e+05\n",
       "std         1.396610    1512.986531  1.593972e+06\n",
       "min         1.000000     100.000000  7.000000e+02\n",
       "25%         2.000000    1300.000000  2.150000e+05\n",
       "50%         2.000000    1839.000000  3.399000e+05\n",
       "75%         3.000000    2614.000000  5.950000e+05\n",
       "max        60.000000   28660.000000  1.650000e+08"
      ]
     },
     "execution_count": 36,
     "metadata": {},
     "output_type": "execute_result"
    }
   ],
   "source": [
    "data = data[(data.sqft >= 100) & (data.sqft <= 28660)]\n",
    "\n",
    "data.describe()"
   ]
  },
  {
   "cell_type": "code",
   "execution_count": 37,
   "metadata": {},
   "outputs": [
    {
     "data": {
      "text/plain": [
       "baths           18.545295\n",
       "beds            14.560377\n",
       "status          11.282562\n",
       "propertyType     5.205847\n",
       "homeFacts        0.000000\n",
       "city             0.000000\n",
       "schools          0.000000\n",
       "sqft             0.000000\n",
       "zipcode          0.000000\n",
       "state            0.000000\n",
       "target           0.000000\n",
       "dtype: float64"
      ]
     },
     "execution_count": 37,
     "metadata": {},
     "output_type": "execute_result"
    }
   ],
   "source": [
    "(data.isnull().mean()*100).sort_values(ascending=False)"
   ]
  },
  {
   "cell_type": "code",
   "execution_count": 38,
   "metadata": {},
   "outputs": [
    {
     "data": {
      "text/plain": [
       "133"
      ]
     },
     "execution_count": 38,
     "metadata": {},
     "output_type": "execute_result"
    }
   ],
   "source": [
    "# преобразуем количество спален\n",
    "\n",
    "data['beds'].nunique() # количество уникальных значений"
   ]
  },
  {
   "cell_type": "code",
   "execution_count": 39,
   "metadata": {},
   "outputs": [
    {
     "data": {
      "text/plain": [
       "45"
      ]
     },
     "metadata": {},
     "output_type": "display_data"
    },
    {
     "name": "stdout",
     "output_type": "stream",
     "text": [
      "<class 'pandas.core.frame.DataFrame'>\n",
      "Index: 315088 entries, 0 to 325533\n",
      "Data columns (total 11 columns):\n",
      " #   Column        Non-Null Count   Dtype  \n",
      "---  ------        --------------   -----  \n",
      " 0   status        279538 non-null  object \n",
      " 1   propertyType  298685 non-null  object \n",
      " 2   baths         256654 non-null  float64\n",
      " 3   homeFacts     315088 non-null  object \n",
      " 4   city          315088 non-null  object \n",
      " 5   schools       315088 non-null  object \n",
      " 6   sqft          315088 non-null  float64\n",
      " 7   zipcode       315088 non-null  object \n",
      " 8   beds          254509 non-null  float64\n",
      " 9   state         315088 non-null  object \n",
      " 10  target        315088 non-null  float64\n",
      "dtypes: float64(4), object(7)\n",
      "memory usage: 28.8+ MB\n"
     ]
    }
   ],
   "source": [
    "data['beds'] = data['beds'].apply(lambda x: x if x is np.nan else (np.nan if (x.__contains__('acre') or x.__contains__('sqft') or x.__contains__('Bath')) else x.split(' ')[0])) \n",
    "\n",
    "data['beds'] = data['beds'].apply(lambda x: np.nan if (x=='--' or x=='' or x=='Based' or x=='#') else x) # заменяем на nan значения строк, где не оказалось чисел (по факту это пропуски в данных)\n",
    "\n",
    "data['beds'] = data['beds'].apply(lambda x: x if x is np.nan else x.split('-')[0]) # для значений, разделенных тире, оставляем первую цифру\n",
    "\n",
    "data['beds'] = data['beds'].astype(float) # преобразуем столбец к типу float\n",
    "\n",
    "display(data['beds'].nunique())\n",
    "\n",
    "data.info()"
   ]
  },
  {
   "cell_type": "code",
   "execution_count": 40,
   "metadata": {},
   "outputs": [
    {
     "data": {
      "text/plain": [
       "beds            19.226057\n",
       "baths           18.545295\n",
       "status          11.282562\n",
       "propertyType     5.205847\n",
       "homeFacts        0.000000\n",
       "city             0.000000\n",
       "schools          0.000000\n",
       "sqft             0.000000\n",
       "zipcode          0.000000\n",
       "state            0.000000\n",
       "target           0.000000\n",
       "dtype: float64"
      ]
     },
     "execution_count": 40,
     "metadata": {},
     "output_type": "execute_result"
    }
   ],
   "source": [
    "(data.isnull().mean()*100).sort_values(ascending=False)"
   ]
  },
  {
   "cell_type": "code",
   "execution_count": 41,
   "metadata": {},
   "outputs": [
    {
     "data": {
      "text/plain": [
       "144"
      ]
     },
     "metadata": {},
     "output_type": "display_data"
    },
    {
     "data": {
      "text/plain": [
       "array(['active', 'for sale', 'other', 'new construction', 'pending', 'p',\n",
       "       ' / auction', 'under contract', 'under contract   showing',\n",
       "       'pre-foreclosure', 'under contract backups',\n",
       "       'active under contract', 'foreclosure', 'option pending',\n",
       "       'pre-foreclosure / auction', 'under contract show', 'for rent',\n",
       "       'auction', 'a active', 'contingent', 'pending   continue to show',\n",
       "       'foreclosed', 'price change', 'back on market', 'new',\n",
       "       'active option', 'coming soon: nov 21.',\n",
       "       'contingent finance and inspection', 'coming soon: dec 4.',\n",
       "       'p pending sale', 'coming soon: nov 23.',\n",
       "       'active with contingencies', 'contingent show', 'contract p',\n",
       "       'contingent take backup', 'apartment for rent', 'backup contract',\n",
       "       'option contract', 'pending continue to show',\n",
       "       'pending inspection', 'active option contract', 'c',\n",
       "       'contingent   show', 'pi', 'contract contingent on buyer sale',\n",
       "       'u under contract', 'coming soon: nov 29.', 'coming soon: dec 2.',\n",
       "       'active contingency', 'pending with contingencies',\n",
       "       'lease/purchase pending', 'pending bring backup',\n",
       "       'c continue show', 'pending taking backups',\n",
       "       'offer pending signature', 'under contract - show',\n",
       "       'contingent lien holder release', 'active - auction',\n",
       "       'active with offer', 'auction - active',\n",
       "       'pending, continue to show', 'contingency contract',\n",
       "       'coming soon: dec 10.', 'contingent escape',\n",
       "       'pending - taking backups', 'active/contingent',\n",
       "       'coming soon: dec 24.', 'active backup', 'coming soon: nov 14.',\n",
       "       'coming soon: nov 22.', 'coming soon: oct 21.',\n",
       "       'coming soon: dec 14.', 'coming soon: oct 24.', 'condo for rent',\n",
       "       'active contingent', 'coming soon: dec 18.',\n",
       "       'pending offer approval', 'pending in', 'coming soon: dec 16.',\n",
       "       'ct', 'pending w/insp finance', 'coming soon: dec 3.',\n",
       "       'coming soon: dec 25.', 'coming soon: nov 11.',\n",
       "       'coming soon: nov 28.', 'temporary active', 'coming soon: nov 17.',\n",
       "       'pending (do not show)', 'contingency 48 hr (+/ )',\n",
       "       'pending   continue to show   financing', 'pending w/ cont.',\n",
       "       'coming soon: dec 6.', 'coming soon: nov 27.',\n",
       "       'pending w/escape clause', 'coming soon: nov 26.',\n",
       "       'pending - continue to show', 'closed', 'listing extended',\n",
       "       'under contract - no show', 'coming soon: dec 7.',\n",
       "       'coming soon: dec 27.', 'coming soon: dec 11.',\n",
       "       'coming soon: dec 5.', 'coming soon: nov 13.',\n",
       "       'contingent   release', 'conditional contract',\n",
       "       'active - contingent', 'active with contract',\n",
       "       'coming soon: nov 19.', 'coming soon: nov 8.',\n",
       "       'coming soon: oct 29.', 'coming soon: dec 15.',\n",
       "       'pending w/backup wanted', 'pending backups wanted',\n",
       "       'coming soon: oct 30.', 'contingent   no show',\n",
       "       'coming soon: dec 9.', 'coming soon: nov 30.', 'accepting backups',\n",
       "       'coming soon: dec 20.', 'pending take backups',\n",
       "       'contingent   foreclosure', 'conting accpt backups',\n",
       "       'lease/purchase', 'pending fe', 'pf', 'coming soon: dec 13.',\n",
       "       'contingent - sale of home', 'ps', 'under contract w/ bckp',\n",
       "       're activated', 'coming soon: dec 12.', 'accepted offer',\n",
       "       'reactivated', 'uc continue to show', 'contingent - financing',\n",
       "       'pending - backup offer requested', 'coming soon: nov 5.',\n",
       "       'coming soon: nov 12.', 'coming soon: dec 1.', 'pending sh',\n",
       "       'coming soon: nov 25.', 'under contract taking back up offers',\n",
       "       'coming soon: dec 23.'], dtype=object)"
      ]
     },
     "execution_count": 41,
     "metadata": {},
     "output_type": "execute_result"
    }
   ],
   "source": [
    "# заполним пропуски в столбцах status значениями other\n",
    "\n",
    "data['status'] = data['status'].fillna('other')\n",
    "\n",
    "data['status'] = data['status'].str.lower() #переведем записи в нижний регистр\n",
    "\n",
    "display(data['status'].nunique()) #количество уникальных значений\n",
    "data['status'].unique()"
   ]
  },
  {
   "cell_type": "code",
   "execution_count": 42,
   "metadata": {},
   "outputs": [
    {
     "data": {
      "text/plain": [
       "status\n",
       "activated                 251901\n",
       "other                      36566\n",
       "foreclosure                 5976\n",
       "pending                     5904\n",
       "new                         5823\n",
       "under contract showing      3152\n",
       "pre foreclosure             2553\n",
       "auction                     1572\n",
       "contingency                 1251\n",
       "for rent                     390\n",
       "Name: count, dtype: int64"
      ]
     },
     "metadata": {},
     "output_type": "display_data"
    },
    {
     "data": {
      "text/plain": [
       "10"
      ]
     },
     "metadata": {},
     "output_type": "display_data"
    }
   ],
   "source": [
    "data['status'] = data['status'].apply(lambda x: 'coming soon' if x.__contains__('coming soon') else x) # заменим значения, где встречается coming soon\n",
    "\n",
    "# создадим словарь для замены определяемых значений\n",
    "\n",
    "dict1 = {'foreclosed':'foreclosure',\n",
    "         'pre foreclosure auction':'pre foreclosure',\n",
    "         'pre-foreclosure / auction':'pre foreclosure',\n",
    "         'pre-foreclosure':'pre foreclosure',\n",
    "         'under contract show':'under contract showing',\n",
    "         'under contract - show':'under contract showing',\n",
    "         'uc continue to show':'under contract showing',\n",
    "         'u under contract':'under contract showing',\n",
    "         'under contract':'under contract showing',\n",
    "         'under contract   showing':'under contract showing',\n",
    "         'active under contract':'under contract showing',\n",
    "         'active backup':'under contract backups',\n",
    "         'backup contract':'under contract backups',\n",
    "         'backup':'under contract backups',\n",
    "         'under contract taking back up offers':'under contract backups',\n",
    "         'under contract w/ bckp':'under contract backups',\n",
    "         'active auction':'auction',\n",
    "         'auction active':'auction',\n",
    "         'auction - active':'auction',\n",
    "         'active - auction':'auction',\n",
    "         'a active':'auction',\n",
    "         ' / auction':'auction',\n",
    "         'active':'activated',\n",
    "         'for sale':'activated',\n",
    "         'back on market':'activated',\n",
    "         're activated':'activated',\n",
    "         'contingent   show':'activated',\n",
    "         'contingent show':'activated',\n",
    "         'active/contingent':'activated',\n",
    "         'new construction':'new',\n",
    "         'pending sh':'pending continue show',\n",
    "         'pending continue to show':'pending continue show', \n",
    "         'active with contingencies':'active contingency',\n",
    "         'contingent':'contingency',\n",
    "         'price change':'contingency',\n",
    "         'contingent finance and inspection':'contingency',\n",
    "         'contract contingent on buyer sale':'contingency contract',\n",
    "         'c':'contingency',\n",
    "         'contingency 48 hr (+/ )':'contingency',              \n",
    "         'p':'pending',\n",
    "         'option pending':'pending',\n",
    "         'offer pending signature':'pending',\n",
    "         'pi':'pending inspection',\n",
    "         'pending in':'pending inspection',\n",
    "         'pending w/insp finance':'pending inspection',\n",
    "         'pending with contingencies':'pending',\n",
    "         'c continue show':'pending continue show',\n",
    "         'contract p':'pending',\n",
    "         'pending - taking backups':'pending take backups',\n",
    "         'contingent take backup':'pending take backups',\n",
    "         'pending taking backups':'pending take backups',\n",
    "         'p pending sale':'pending',\n",
    "         'apartment for rent':'for rent',\n",
    "         'condo for rent':'for rent'\n",
    "         }\n",
    "\n",
    "\n",
    "data['status'] = data['status'].replace(dict1) # произведем замену в соответствии со словарем\n",
    "\n",
    "popular_status=data['status'].value_counts().nlargest(10).index # список 20 самых популярных статусов\n",
    "\n",
    "data['status'] = data['status'].apply(lambda x: x if x in popular_status else 'other') # оставляем значения 10 самых популярных статусов, остальное заменяем на значение other\n",
    "\n",
    "display(data['status'].value_counts())\n",
    "display(data['status'].nunique())"
   ]
  },
  {
   "cell_type": "code",
   "execution_count": 43,
   "metadata": {},
   "outputs": [
    {
     "data": {
      "text/plain": [
       "1235"
      ]
     },
     "metadata": {},
     "output_type": "display_data"
    },
    {
     "data": {
      "text/plain": [
       "array(['single family home', 'single-family home', 'townhouse', ...,\n",
       "       'cabin/lodge, contemporary, converted barn, cottage, loft with bedrooms, log home, post & beam',\n",
       "       'lake house, single detached, tudor',\n",
       "       'bilevel, converted dwelling, loft with bedrooms, condo/unit'],\n",
       "      dtype=object)"
      ]
     },
     "execution_count": 43,
     "metadata": {},
     "output_type": "execute_result"
    }
   ],
   "source": [
    "# заполним пропуски в столбцах propertyType значением other\n",
    "\n",
    "data['propertyType'] = data['propertyType'].fillna('other')\n",
    "\n",
    "data['propertyType'] = data['propertyType'].str.lower() #переведем записи в нижний регистр\n",
    "\n",
    "display(data['propertyType'].nunique()) #количество уникальных значений\n",
    "data['propertyType'].unique()"
   ]
  },
  {
   "cell_type": "code",
   "execution_count": 44,
   "metadata": {},
   "outputs": [],
   "source": [
    "dict2 = {'mo2 le':'mobile',\n",
    "         'mo2le':'mobile',\n",
    "         'mfd/mobile home':'mobile',\n",
    "         'mobile/manufactured':'mobile',\n",
    "         'mobile / manufactured':'mobile',\n",
    "         'mobile':'manufactured home (house)',\n",
    "         'prefab':'manufactured home (house)',\n",
    "         'modular':'manufactured home (house)',\n",
    "         'ca2 n':'cabin',\n",
    "         'ca2n':'cabin',\n",
    "         'mid century':'midcentury',\n",
    "         'mid-century':'midcentury',\n",
    "         'single-family home':'single family',\n",
    "         'single family home':'single family',\n",
    "         'singlefamilyresidence':'single family',\n",
    "         'detached, one story':'single family',\n",
    "         'detached, two story':'single family',\n",
    "         'single detached':'single family',\n",
    "         'tiny home':'single family',\n",
    "         'multi-family':'multi family',\n",
    "         'multi-family home':'multi family',\n",
    "         'land':'lot/land',\n",
    "         'contemporary/modern':'contemporary',\n",
    "         'contemporary/modern, traditional':'contemporary',\n",
    "         'two story':'2 stories',\n",
    "         '2 story':'2 stories',\n",
    "         '2 stories, traditional':'2 stories',\n",
    "         'detached, two story':'2 stories',\n",
    "         'one story':'1 story',\n",
    "         '1 story, traditional':'1 story',\n",
    "         'single detached, traditional':'single detached',\n",
    "         'condo/townhome/row home/co-op':'condo',\n",
    "         'condo/townhome, traditional':'condo',\n",
    "         'condo/townhome':'condo',\n",
    "         'condo/townhome, contemporary/modern':'condo',\n",
    "         'coop':'cooperative',\n",
    "         'other style':'other',\n",
    "         'ranch, traditional':'farms/ranches',\n",
    "         'ranch':'farms/ranches',\n",
    "         'townhome':'townhouse'\n",
    "\n",
    "}\n",
    "\n",
    "data['propertyType'] = data['propertyType'].replace(dict2) # произведем замену в соответствии со словарем"
   ]
  },
  {
   "cell_type": "code",
   "execution_count": 45,
   "metadata": {},
   "outputs": [
    {
     "data": {
      "text/plain": [
       "1210"
      ]
     },
     "metadata": {},
     "output_type": "display_data"
    },
    {
     "data": {
      "text/plain": [
       "array(['single family', 'townhouse', 'florida', ...,\n",
       "       'cabin/lodge, contemporary, converted barn, cottage, loft with bedrooms, log home, post & beam',\n",
       "       'lake house, single detached, tudor',\n",
       "       'bilevel, converted dwelling, loft with bedrooms, condo/unit'],\n",
       "      dtype=object)"
      ]
     },
     "execution_count": 45,
     "metadata": {},
     "output_type": "execute_result"
    }
   ],
   "source": [
    "display(data['propertyType'].nunique()) #количество уникальных значений\n",
    "data['propertyType'].unique()"
   ]
  },
  {
   "cell_type": "code",
   "execution_count": 46,
   "metadata": {},
   "outputs": [
    {
     "data": {
      "text/plain": [
       "propertyType\n",
       "single family                           184105\n",
       "condo                                    48964\n",
       "townhouse                                17736\n",
       "other                                    16825\n",
       "multi family                             11242\n",
       "traditional                               5858\n",
       "mobile                                    3226\n",
       "contemporary                              2640\n",
       "cooperative                               2446\n",
       "2 stories                                 2284\n",
       "farms/ranches                             2067\n",
       "1 story                                   1989\n",
       "high rise                                 1597\n",
       "single detached                           1576\n",
       "colonial                                  1053\n",
       "apartment                                  724\n",
       "transitional                               557\n",
       "florida                                    529\n",
       "bungalow                                   431\n",
       "garden home                                271\n",
       "spanish/mediterranean                      271\n",
       "cape cod                                   267\n",
       "craftsman                                  201\n",
       "single detached, contemporary/modern       176\n",
       "mediterranean                              127\n",
       "multiple occupancy                         127\n",
       "traditional, transitional                  126\n",
       "2 stories, contemporary                    126\n",
       "custom                                     119\n",
       "federal                                    110\n",
       "Name: count, dtype: int64"
      ]
     },
     "execution_count": 46,
     "metadata": {},
     "output_type": "execute_result"
    }
   ],
   "source": [
    "data['propertyType'].value_counts().nlargest(30)"
   ]
  },
  {
   "cell_type": "markdown",
   "metadata": {},
   "source": [
    "Видим, что есть группа наиболее популярных типов объектов недвижимости (15 штук), а дальше частота быстро падает. Для уменьшения количества уникальных категорий propertyType выделим наиболее часто встречающиеся типы, остальные заменим на other"
   ]
  },
  {
   "cell_type": "code",
   "execution_count": 47,
   "metadata": {},
   "outputs": [
    {
     "data": {
      "text/plain": [
       "propertyType\n",
       "single family      184105\n",
       "condo               48964\n",
       "other               28305\n",
       "townhouse           17736\n",
       "multi family        11242\n",
       "traditional          5858\n",
       "mobile               3226\n",
       "contemporary         2640\n",
       "cooperative          2446\n",
       "2 stories            2284\n",
       "farms/ranches        2067\n",
       "1 story              1989\n",
       "high rise            1597\n",
       "single detached      1576\n",
       "colonial             1053\n",
       "Name: count, dtype: int64"
      ]
     },
     "metadata": {},
     "output_type": "display_data"
    },
    {
     "data": {
      "text/plain": [
       "15"
      ]
     },
     "metadata": {},
     "output_type": "display_data"
    }
   ],
   "source": [
    "popular_prop=data['propertyType'].value_counts().nlargest(15).index # список 15 самых популярных типов собственности\n",
    "\n",
    "data['propertyType'] = data['propertyType'].apply(lambda x: x if x in popular_prop else 'other')\n",
    "\n",
    "display(data['propertyType'].value_counts())\n",
    "display(data['propertyType'].nunique())"
   ]
  },
  {
   "cell_type": "code",
   "execution_count": 48,
   "metadata": {},
   "outputs": [
    {
     "data": {
      "text/plain": [
       "beds            19.226057\n",
       "baths           18.545295\n",
       "status           0.000000\n",
       "propertyType     0.000000\n",
       "homeFacts        0.000000\n",
       "city             0.000000\n",
       "schools          0.000000\n",
       "sqft             0.000000\n",
       "zipcode          0.000000\n",
       "state            0.000000\n",
       "target           0.000000\n",
       "dtype: float64"
      ]
     },
     "execution_count": 48,
     "metadata": {},
     "output_type": "execute_result"
    }
   ],
   "source": [
    "(data.isnull().mean()*100).sort_values(ascending=False)"
   ]
  },
  {
   "cell_type": "markdown",
   "metadata": {},
   "source": [
    "Заполним пропуски в столбцах beds, baths:\n",
    "\n",
    "*  beds - модой\n",
    "*  baths - модой"
   ]
  },
  {
   "cell_type": "code",
   "execution_count": 49,
   "metadata": {},
   "outputs": [
    {
     "data": {
      "text/plain": [
       "status          0.0\n",
       "propertyType    0.0\n",
       "baths           0.0\n",
       "homeFacts       0.0\n",
       "city            0.0\n",
       "schools         0.0\n",
       "sqft            0.0\n",
       "zipcode         0.0\n",
       "beds            0.0\n",
       "state           0.0\n",
       "target          0.0\n",
       "dtype: float64"
      ]
     },
     "execution_count": 49,
     "metadata": {},
     "output_type": "execute_result"
    }
   ],
   "source": [
    "#создаем словарь для заполнения пропусков в столбцах beds, baths, sqft\n",
    "values = {\n",
    "    'beds': data['beds'].mode()[0],\n",
    "    'baths': data['baths'].mode()[0]\n",
    "}\n",
    "\n",
    "#заполняем пропуски в соответствии с заявленным словарем\n",
    "data = data.fillna(values)\n",
    "\n",
    "#выводим результирующую долю пропусков\n",
    "data.isnull().mean()"
   ]
  },
  {
   "cell_type": "markdown",
   "metadata": {},
   "source": [
    "Посмотрим на информацию в столбце homeFacts"
   ]
  },
  {
   "cell_type": "code",
   "execution_count": 50,
   "metadata": {},
   "outputs": [
    {
     "data": {
      "text/plain": [
       "\"{'atAGlanceFacts': [{'factValue': '2019', 'factLabel': 'Year built'}, {'factValue': '', 'factLabel': 'Remodeled year'}, {'factValue': 'Central A/C, Heat Pump', 'factLabel': 'Heating'}, {'factValue': '', 'factLabel': 'Cooling'}, {'factValue': '', 'factLabel': 'Parking'}, {'factValue': None, 'factLabel': 'lotsize'}, {'factValue': '$144', 'factLabel': 'Price/sqft'}]}\""
      ]
     },
     "execution_count": 50,
     "metadata": {},
     "output_type": "execute_result"
    }
   ],
   "source": [
    "data['homeFacts'][0]"
   ]
  },
  {
   "cell_type": "markdown",
   "metadata": {},
   "source": [
    "Извлечем из столбца сведения о годе строительства"
   ]
  },
  {
   "cell_type": "code",
   "execution_count": 51,
   "metadata": {},
   "outputs": [
    {
     "data": {
      "text/plain": [
       "array(['', '1019', '1057', '1060', '1208', '1703', '1735', '1740', '1750',\n",
       "       '1788', '1790', '1794', '1795', '1796', '1799', '1800', '1803',\n",
       "       '1804', '1805', '1807', '1808', '1809', '1810', '1812', '1815',\n",
       "       '1816', '1817', '1818', '1820', '1822', '1823', '1824', '1825',\n",
       "       '1828', '1829', '1830', '1831', '1832', '1834', '1835', '1836',\n",
       "       '1840', '1842', '1843', '1844', '1845', '1846', '1847', '1848',\n",
       "       '1850', '1851', '1852', '1853', '1854', '1855', '1856', '1857',\n",
       "       '1858', '1859', '1860', '1861', '1862', '1863', '1864', '1865',\n",
       "       '1866', '1867', '1868', '1869', '1870', '1871', '1872', '1873',\n",
       "       '1874', '1875', '1876', '1877', '1878', '1879', '1880', '1881',\n",
       "       '1882', '1883', '1884', '1885', '1886', '1887', '1888', '1889',\n",
       "       '1890', '1891', '1892', '1893', '1894', '1895', '1896', '1897',\n",
       "       '1898', '1899', '1900', '1901', '1902', '1903', '1904', '1905',\n",
       "       '1906', '1907', '1908', '1909', '1910', '1911', '1912', '1913',\n",
       "       '1914', '1915', '1916', '1917', '1918', '1919', '1920', '1921',\n",
       "       '1922', '1923', '1924', '1925', '1926', '1927', '1928', '1929',\n",
       "       '1930', '1931', '1932', '1933', '1934', '1935', '1936', '1937',\n",
       "       '1938', '1939', '1940', '1941', '1942', '1943', '1944', '1945',\n",
       "       '1946', '1947', '1948', '1949', '1950', '1951', '1952', '1953',\n",
       "       '1954', '1955', '1956', '1957', '1958', '1959', '1960', '1961',\n",
       "       '1962', '1963', '1964', '1965', '1966', '1967', '1968', '1969',\n",
       "       '1970', '1971', '1972', '1973', '1974', '1975', '1976', '1977',\n",
       "       '1978', '1979', '1980', '1981', '1982', '1983', '1984', '1985',\n",
       "       '1986', '1987', '1988', '1989', '1990', '1991', '1992', '1993',\n",
       "       '1994', '1995', '1996', '1997', '1998', '1999', '2000', '2001',\n",
       "       '2002', '2003', '2004', '2005', '2006', '2007', '2008', '2009',\n",
       "       '2010', '2011', '2012', '2013', '2014', '2015', '2016', '2017',\n",
       "       '2018', '2019', '2020', '2021', '2022', '2025', '559990649990',\n",
       "       'No Data', \"Year built'}, {'factValue\",\n",
       "       \"Year built'}, {'factValue': None, 'factLabel\"], dtype=object)"
      ]
     },
     "execution_count": 51,
     "metadata": {},
     "output_type": "execute_result"
    }
   ],
   "source": [
    "data['Year built'] = data['homeFacts'].apply(lambda x: x.split(\"': '\")[1].split(\"', '\")[0])\n",
    "data['Year built'].sort_values().unique()"
   ]
  },
  {
   "cell_type": "code",
   "execution_count": 52,
   "metadata": {},
   "outputs": [
    {
     "data": {
      "text/plain": [
       "array(['1703', '1735', '1740', '1750', '1788', '1790', '1794', '1795',\n",
       "       '1796', '1799', '1800', '1803', '1804', '1805', '1807', '1808',\n",
       "       '1809', '1810', '1812', '1815', '1816', '1817', '1818', '1820',\n",
       "       '1822', '1823', '1824', '1825', '1828', '1829', '1830', '1831',\n",
       "       '1832', '1834', '1835', '1836', '1840', '1842', '1843', '1844',\n",
       "       '1845', '1846', '1847', '1848', '1850', '1851', '1852', '1853',\n",
       "       '1854', '1855', '1856', '1857', '1858', '1859', '1860', '1861',\n",
       "       '1862', '1863', '1864', '1865', '1866', '1867', '1868', '1869',\n",
       "       '1870', '1871', '1872', '1873', '1874', '1875', '1876', '1877',\n",
       "       '1878', '1879', '1880', '1881', '1882', '1883', '1884', '1885',\n",
       "       '1886', '1887', '1888', '1889', '1890', '1891', '1892', '1893',\n",
       "       '1894', '1895', '1896', '1897', '1898', '1899', '1900', '1901',\n",
       "       '1902', '1903', '1904', '1905', '1906', '1907', '1908', '1909',\n",
       "       '1910', '1911', '1912', '1913', '1914', '1915', '1916', '1917',\n",
       "       '1918', '1919', '1920', '1921', '1922', '1923', '1924', '1925',\n",
       "       '1926', '1927', '1928', '1929', '1930', '1931', '1932', '1933',\n",
       "       '1934', '1935', '1936', '1937', '1938', '1939', '1940', '1941',\n",
       "       '1942', '1943', '1944', '1945', '1946', '1947', '1948', '1949',\n",
       "       '1950', '1951', '1952', '1953', '1954', '1955', '1956', '1957',\n",
       "       '1958', '1959', '1960', '1961', '1962', '1963', '1964', '1965',\n",
       "       '1966', '1967', '1968', '1969', '1970', '1971', '1972', '1973',\n",
       "       '1974', '1975', '1976', '1977', '1978', '1979', '1980', '1981',\n",
       "       '1982', '1983', '1984', '1985', '1986', '1987', '1988', '1989',\n",
       "       '1990', '1991', '1992', '1993', '1994', '1995', '1996', '1997',\n",
       "       '1998', '1999', '2000', '2001', '2002', '2003', '2004', '2005',\n",
       "       '2006', '2007', '2008', '2009', '2010', '2011', '2012', '2013',\n",
       "       '2014', '2015', '2016', '2017', '2018', '2019', '2020', '2021',\n",
       "       '2022', 'No Data'], dtype=object)"
      ]
     },
     "execution_count": 52,
     "metadata": {},
     "output_type": "execute_result"
    }
   ],
   "source": [
    "# Заменим ошибочные значения на No data\n",
    "\n",
    "data['Year built'] = data['Year built'].apply(lambda x: 'No Data' if (x==\"Year built'}, {'factValue\") | (x==\"Year built'}, {'factValue': None, 'factLabel\") | (x=='559990649990') | (x=='1') | (x=='') else x)\n",
    "\n",
    "# Годы строительства 1019, 1057, 1060, 1208, 2025 скорее всего заполнены ошибочно. Например, 1208 - это площадь объекта, она ошибочно внесена и в год. Заменим значения\n",
    "\n",
    "data.loc[data['Year built']=='1208','Year built'] = 'No Data'\n",
    "data.loc[data['Year built']=='1019','Year built'] = '1919'\n",
    "data.loc[data['Year built']=='1057','Year built'] = '1957'\n",
    "data.loc[data['Year built']=='1060','Year built'] = '1960'\n",
    "data.loc[data['Year built']=='2025','Year built'] = '2005'\n",
    "data['Year built'].sort_values().unique()"
   ]
  },
  {
   "cell_type": "code",
   "execution_count": 53,
   "metadata": {},
   "outputs": [
    {
     "data": {
      "text/html": [
       "<div>\n",
       "<style scoped>\n",
       "    .dataframe tbody tr th:only-of-type {\n",
       "        vertical-align: middle;\n",
       "    }\n",
       "\n",
       "    .dataframe tbody tr th {\n",
       "        vertical-align: top;\n",
       "    }\n",
       "\n",
       "    .dataframe thead th {\n",
       "        text-align: right;\n",
       "    }\n",
       "</style>\n",
       "<table border=\"1\" class=\"dataframe\">\n",
       "  <thead>\n",
       "    <tr style=\"text-align: right;\">\n",
       "      <th></th>\n",
       "      <th>status</th>\n",
       "      <th>propertyType</th>\n",
       "      <th>baths</th>\n",
       "      <th>homeFacts</th>\n",
       "      <th>city</th>\n",
       "      <th>schools</th>\n",
       "      <th>sqft</th>\n",
       "      <th>zipcode</th>\n",
       "      <th>beds</th>\n",
       "      <th>state</th>\n",
       "      <th>target</th>\n",
       "      <th>Year built</th>\n",
       "    </tr>\n",
       "  </thead>\n",
       "  <tbody>\n",
       "  </tbody>\n",
       "</table>\n",
       "</div>"
      ],
      "text/plain": [
       "Empty DataFrame\n",
       "Columns: [status, propertyType, baths, homeFacts, city, schools, sqft, zipcode, beds, state, target, Year built]\n",
       "Index: []"
      ]
     },
     "metadata": {},
     "output_type": "display_data"
    },
    {
     "data": {
      "text/html": [
       "<div>\n",
       "<style scoped>\n",
       "    .dataframe tbody tr th:only-of-type {\n",
       "        vertical-align: middle;\n",
       "    }\n",
       "\n",
       "    .dataframe tbody tr th {\n",
       "        vertical-align: top;\n",
       "    }\n",
       "\n",
       "    .dataframe thead th {\n",
       "        text-align: right;\n",
       "    }\n",
       "</style>\n",
       "<table border=\"1\" class=\"dataframe\">\n",
       "  <thead>\n",
       "    <tr style=\"text-align: right;\">\n",
       "      <th></th>\n",
       "      <th>status</th>\n",
       "      <th>propertyType</th>\n",
       "      <th>baths</th>\n",
       "      <th>homeFacts</th>\n",
       "      <th>city</th>\n",
       "      <th>schools</th>\n",
       "      <th>sqft</th>\n",
       "      <th>zipcode</th>\n",
       "      <th>beds</th>\n",
       "      <th>state</th>\n",
       "      <th>target</th>\n",
       "      <th>Year built</th>\n",
       "    </tr>\n",
       "  </thead>\n",
       "  <tbody>\n",
       "    <tr>\n",
       "      <th>150614</th>\n",
       "      <td>activated</td>\n",
       "      <td>townhouse</td>\n",
       "      <td>1.0</td>\n",
       "      <td>{'atAGlanceFacts': [{'factValue': '1703', 'fac...</td>\n",
       "      <td>Philadelphia</td>\n",
       "      <td>[{'rating': ['7/10', '1/10'], 'data': {'Distan...</td>\n",
       "      <td>912.0</td>\n",
       "      <td>19106</td>\n",
       "      <td>2.0</td>\n",
       "      <td>PA</td>\n",
       "      <td>2800000.0</td>\n",
       "      <td>1703</td>\n",
       "    </tr>\n",
       "    <tr>\n",
       "      <th>275597</th>\n",
       "      <td>activated</td>\n",
       "      <td>townhouse</td>\n",
       "      <td>2.0</td>\n",
       "      <td>{'atAGlanceFacts': [{'factValue': '1703', 'fac...</td>\n",
       "      <td>Philadelphia</td>\n",
       "      <td>[{'rating': ['7/10', '1/10'], 'data': {'Distan...</td>\n",
       "      <td>912.0</td>\n",
       "      <td>19106</td>\n",
       "      <td>2.0</td>\n",
       "      <td>PA</td>\n",
       "      <td>2800000.0</td>\n",
       "      <td>1703</td>\n",
       "    </tr>\n",
       "  </tbody>\n",
       "</table>\n",
       "</div>"
      ],
      "text/plain": [
       "           status propertyType  baths   \n",
       "150614  activated    townhouse    1.0  \\\n",
       "275597  activated    townhouse    2.0   \n",
       "\n",
       "                                                homeFacts          city   \n",
       "150614  {'atAGlanceFacts': [{'factValue': '1703', 'fac...  Philadelphia  \\\n",
       "275597  {'atAGlanceFacts': [{'factValue': '1703', 'fac...  Philadelphia   \n",
       "\n",
       "                                                  schools   sqft zipcode   \n",
       "150614  [{'rating': ['7/10', '1/10'], 'data': {'Distan...  912.0   19106  \\\n",
       "275597  [{'rating': ['7/10', '1/10'], 'data': {'Distan...  912.0   19106   \n",
       "\n",
       "        beds state     target Year built  \n",
       "150614   2.0    PA  2800000.0       1703  \n",
       "275597   2.0    PA  2800000.0       1703  "
      ]
     },
     "metadata": {},
     "output_type": "display_data"
    },
    {
     "data": {
      "text/html": [
       "<div>\n",
       "<style scoped>\n",
       "    .dataframe tbody tr th:only-of-type {\n",
       "        vertical-align: middle;\n",
       "    }\n",
       "\n",
       "    .dataframe tbody tr th {\n",
       "        vertical-align: top;\n",
       "    }\n",
       "\n",
       "    .dataframe thead th {\n",
       "        text-align: right;\n",
       "    }\n",
       "</style>\n",
       "<table border=\"1\" class=\"dataframe\">\n",
       "  <thead>\n",
       "    <tr style=\"text-align: right;\">\n",
       "      <th></th>\n",
       "      <th>status</th>\n",
       "      <th>propertyType</th>\n",
       "      <th>baths</th>\n",
       "      <th>homeFacts</th>\n",
       "      <th>city</th>\n",
       "      <th>schools</th>\n",
       "      <th>sqft</th>\n",
       "      <th>zipcode</th>\n",
       "      <th>beds</th>\n",
       "      <th>state</th>\n",
       "      <th>target</th>\n",
       "      <th>Year built</th>\n",
       "    </tr>\n",
       "  </thead>\n",
       "  <tbody>\n",
       "    <tr>\n",
       "      <th>239734</th>\n",
       "      <td>pre foreclosure</td>\n",
       "      <td>multi family</td>\n",
       "      <td>3.0</td>\n",
       "      <td>{'atAGlanceFacts': [{'factValue': '1735', 'fac...</td>\n",
       "      <td>Worcester</td>\n",
       "      <td>[{'rating': ['2/10', '4/10'], 'data': {'Distan...</td>\n",
       "      <td>3002.0</td>\n",
       "      <td>1604</td>\n",
       "      <td>6.0</td>\n",
       "      <td>MA</td>\n",
       "      <td>177253.0</td>\n",
       "      <td>1735</td>\n",
       "    </tr>\n",
       "  </tbody>\n",
       "</table>\n",
       "</div>"
      ],
      "text/plain": [
       "                 status  propertyType  baths   \n",
       "239734  pre foreclosure  multi family    3.0  \\\n",
       "\n",
       "                                                homeFacts       city   \n",
       "239734  {'atAGlanceFacts': [{'factValue': '1735', 'fac...  Worcester  \\\n",
       "\n",
       "                                                  schools    sqft zipcode   \n",
       "239734  [{'rating': ['2/10', '4/10'], 'data': {'Distan...  3002.0    1604  \\\n",
       "\n",
       "        beds state    target Year built  \n",
       "239734   6.0    MA  177253.0       1735  "
      ]
     },
     "metadata": {},
     "output_type": "display_data"
    },
    {
     "data": {
      "text/html": [
       "<div>\n",
       "<style scoped>\n",
       "    .dataframe tbody tr th:only-of-type {\n",
       "        vertical-align: middle;\n",
       "    }\n",
       "\n",
       "    .dataframe tbody tr th {\n",
       "        vertical-align: top;\n",
       "    }\n",
       "\n",
       "    .dataframe thead th {\n",
       "        text-align: right;\n",
       "    }\n",
       "</style>\n",
       "<table border=\"1\" class=\"dataframe\">\n",
       "  <thead>\n",
       "    <tr style=\"text-align: right;\">\n",
       "      <th></th>\n",
       "      <th>status</th>\n",
       "      <th>propertyType</th>\n",
       "      <th>baths</th>\n",
       "      <th>homeFacts</th>\n",
       "      <th>city</th>\n",
       "      <th>schools</th>\n",
       "      <th>sqft</th>\n",
       "      <th>zipcode</th>\n",
       "      <th>beds</th>\n",
       "      <th>state</th>\n",
       "      <th>target</th>\n",
       "      <th>Year built</th>\n",
       "    </tr>\n",
       "  </thead>\n",
       "  <tbody>\n",
       "    <tr>\n",
       "      <th>1805</th>\n",
       "      <td>activated</td>\n",
       "      <td>single family</td>\n",
       "      <td>10.0</td>\n",
       "      <td>{'atAGlanceFacts': [{'factValue': '1740', 'fac...</td>\n",
       "      <td>Barnstable</td>\n",
       "      <td>[{'rating': ['NA', '4/10', '5/10'], 'data': {'...</td>\n",
       "      <td>7366.0</td>\n",
       "      <td>2630</td>\n",
       "      <td>13.0</td>\n",
       "      <td>MA</td>\n",
       "      <td>1425000.0</td>\n",
       "      <td>1740</td>\n",
       "    </tr>\n",
       "  </tbody>\n",
       "</table>\n",
       "</div>"
      ],
      "text/plain": [
       "         status   propertyType  baths   \n",
       "1805  activated  single family   10.0  \\\n",
       "\n",
       "                                              homeFacts        city   \n",
       "1805  {'atAGlanceFacts': [{'factValue': '1740', 'fac...  Barnstable  \\\n",
       "\n",
       "                                                schools    sqft zipcode  beds   \n",
       "1805  [{'rating': ['NA', '4/10', '5/10'], 'data': {'...  7366.0    2630  13.0  \\\n",
       "\n",
       "     state     target Year built  \n",
       "1805    MA  1425000.0       1740  "
      ]
     },
     "metadata": {},
     "output_type": "display_data"
    }
   ],
   "source": [
    "# посмотрим объекты для отдельных ранних лет строительства\n",
    "\n",
    "display(data[data['Year built']==\"1700\"])\n",
    "display(data[data['Year built']==\"1703\"])\n",
    "display(data[data['Year built']==\"1735\"])\n",
    "display(data[data['Year built']==\"1740\"])"
   ]
  },
  {
   "cell_type": "markdown",
   "metadata": {},
   "source": [
    "Допустим, что остальные годы постройки правильные.\n",
    "\n",
    "Удалим столбец homeFacts и schools"
   ]
  },
  {
   "cell_type": "code",
   "execution_count": 54,
   "metadata": {},
   "outputs": [
    {
     "data": {
      "text/html": [
       "<div>\n",
       "<style scoped>\n",
       "    .dataframe tbody tr th:only-of-type {\n",
       "        vertical-align: middle;\n",
       "    }\n",
       "\n",
       "    .dataframe tbody tr th {\n",
       "        vertical-align: top;\n",
       "    }\n",
       "\n",
       "    .dataframe thead th {\n",
       "        text-align: right;\n",
       "    }\n",
       "</style>\n",
       "<table border=\"1\" class=\"dataframe\">\n",
       "  <thead>\n",
       "    <tr style=\"text-align: right;\">\n",
       "      <th></th>\n",
       "      <th>status</th>\n",
       "      <th>propertyType</th>\n",
       "      <th>baths</th>\n",
       "      <th>city</th>\n",
       "      <th>sqft</th>\n",
       "      <th>zipcode</th>\n",
       "      <th>beds</th>\n",
       "      <th>state</th>\n",
       "      <th>target</th>\n",
       "      <th>Year built</th>\n",
       "    </tr>\n",
       "  </thead>\n",
       "  <tbody>\n",
       "    <tr>\n",
       "      <th>0</th>\n",
       "      <td>activated</td>\n",
       "      <td>single family</td>\n",
       "      <td>3.0</td>\n",
       "      <td>Southern Pines</td>\n",
       "      <td>2900.0</td>\n",
       "      <td>28387</td>\n",
       "      <td>4.0</td>\n",
       "      <td>NC</td>\n",
       "      <td>418000.0</td>\n",
       "      <td>2019</td>\n",
       "    </tr>\n",
       "    <tr>\n",
       "      <th>1</th>\n",
       "      <td>activated</td>\n",
       "      <td>single family</td>\n",
       "      <td>3.0</td>\n",
       "      <td>Spokane Valley</td>\n",
       "      <td>1947.0</td>\n",
       "      <td>99216</td>\n",
       "      <td>3.0</td>\n",
       "      <td>WA</td>\n",
       "      <td>310000.0</td>\n",
       "      <td>2019</td>\n",
       "    </tr>\n",
       "    <tr>\n",
       "      <th>2</th>\n",
       "      <td>activated</td>\n",
       "      <td>single family</td>\n",
       "      <td>2.0</td>\n",
       "      <td>Los Angeles</td>\n",
       "      <td>3000.0</td>\n",
       "      <td>90049</td>\n",
       "      <td>3.0</td>\n",
       "      <td>CA</td>\n",
       "      <td>2895000.0</td>\n",
       "      <td>1961</td>\n",
       "    </tr>\n",
       "    <tr>\n",
       "      <th>3</th>\n",
       "      <td>activated</td>\n",
       "      <td>single family</td>\n",
       "      <td>8.0</td>\n",
       "      <td>Dallas</td>\n",
       "      <td>6457.0</td>\n",
       "      <td>75205</td>\n",
       "      <td>5.0</td>\n",
       "      <td>TX</td>\n",
       "      <td>2395000.0</td>\n",
       "      <td>2006</td>\n",
       "    </tr>\n",
       "    <tr>\n",
       "      <th>4</th>\n",
       "      <td>activated</td>\n",
       "      <td>townhouse</td>\n",
       "      <td>2.0</td>\n",
       "      <td>Philadelphia</td>\n",
       "      <td>897.0</td>\n",
       "      <td>19145</td>\n",
       "      <td>2.0</td>\n",
       "      <td>PA</td>\n",
       "      <td>209000.0</td>\n",
       "      <td>1920</td>\n",
       "    </tr>\n",
       "  </tbody>\n",
       "</table>\n",
       "</div>"
      ],
      "text/plain": [
       "      status   propertyType  baths            city    sqft zipcode  beds   \n",
       "0  activated  single family    3.0  Southern Pines  2900.0   28387   4.0  \\\n",
       "1  activated  single family    3.0  Spokane Valley  1947.0   99216   3.0   \n",
       "2  activated  single family    2.0     Los Angeles  3000.0   90049   3.0   \n",
       "3  activated  single family    8.0          Dallas  6457.0   75205   5.0   \n",
       "4  activated      townhouse    2.0    Philadelphia   897.0   19145   2.0   \n",
       "\n",
       "  state     target Year built  \n",
       "0    NC   418000.0       2019  \n",
       "1    WA   310000.0       2019  \n",
       "2    CA  2895000.0       1961  \n",
       "3    TX  2395000.0       2006  \n",
       "4    PA   209000.0       1920  "
      ]
     },
     "execution_count": 54,
     "metadata": {},
     "output_type": "execute_result"
    }
   ],
   "source": [
    "data = data.drop(['homeFacts', 'schools'], axis=1)\n",
    "\n",
    "data.head()"
   ]
  },
  {
   "cell_type": "markdown",
   "metadata": {},
   "source": [
    "Введем признак периода строительства здания и разделим все годы строительства на половины столетий. Для признака No Data присвоим значение 0\n",
    "\n",
    "*  0 - No Data\n",
    "*  1 - 18 век (с 1700 по 1799 год)\n",
    "*  2 - 19 век (с 1800 по 1899 год)\n",
    "*  3 - 1-ая половина 20 века (1900-1949 годы)\n",
    "*  4 - 2-ая половина 20 века (1950-1999 годы)\n",
    "*  5 - 21 век (с 2000 года)"
   ]
  },
  {
   "cell_type": "code",
   "execution_count": 55,
   "metadata": {},
   "outputs": [],
   "source": [
    "def period_from_year(year):\n",
    "    if year=='No Data':\n",
    "        period=0\n",
    "    else:\n",
    "        if int(year)>=1700 and int(year)<1800:\n",
    "            period=1\n",
    "        if int(year)>=1800 and int(year)<1900:\n",
    "            period=2\n",
    "        if int(year)>=1900 and int(year)<1950:\n",
    "            period=3\n",
    "        if int(year)>=1950 and int(year)<2000:\n",
    "            period=4\n",
    "        if int(year)>=2000:\n",
    "            period=5\n",
    "\n",
    "    return period"
   ]
  },
  {
   "cell_type": "code",
   "execution_count": 56,
   "metadata": {},
   "outputs": [
    {
     "data": {
      "text/html": [
       "<div>\n",
       "<style scoped>\n",
       "    .dataframe tbody tr th:only-of-type {\n",
       "        vertical-align: middle;\n",
       "    }\n",
       "\n",
       "    .dataframe tbody tr th {\n",
       "        vertical-align: top;\n",
       "    }\n",
       "\n",
       "    .dataframe thead th {\n",
       "        text-align: right;\n",
       "    }\n",
       "</style>\n",
       "<table border=\"1\" class=\"dataframe\">\n",
       "  <thead>\n",
       "    <tr style=\"text-align: right;\">\n",
       "      <th></th>\n",
       "      <th>status</th>\n",
       "      <th>propertyType</th>\n",
       "      <th>baths</th>\n",
       "      <th>city</th>\n",
       "      <th>sqft</th>\n",
       "      <th>zipcode</th>\n",
       "      <th>beds</th>\n",
       "      <th>state</th>\n",
       "      <th>target</th>\n",
       "      <th>Year built</th>\n",
       "      <th>Period built</th>\n",
       "    </tr>\n",
       "  </thead>\n",
       "  <tbody>\n",
       "    <tr>\n",
       "      <th>0</th>\n",
       "      <td>activated</td>\n",
       "      <td>single family</td>\n",
       "      <td>3.0</td>\n",
       "      <td>Southern Pines</td>\n",
       "      <td>2900.0</td>\n",
       "      <td>28387</td>\n",
       "      <td>4.0</td>\n",
       "      <td>NC</td>\n",
       "      <td>418000.0</td>\n",
       "      <td>2019</td>\n",
       "      <td>5</td>\n",
       "    </tr>\n",
       "    <tr>\n",
       "      <th>1</th>\n",
       "      <td>activated</td>\n",
       "      <td>single family</td>\n",
       "      <td>3.0</td>\n",
       "      <td>Spokane Valley</td>\n",
       "      <td>1947.0</td>\n",
       "      <td>99216</td>\n",
       "      <td>3.0</td>\n",
       "      <td>WA</td>\n",
       "      <td>310000.0</td>\n",
       "      <td>2019</td>\n",
       "      <td>5</td>\n",
       "    </tr>\n",
       "    <tr>\n",
       "      <th>2</th>\n",
       "      <td>activated</td>\n",
       "      <td>single family</td>\n",
       "      <td>2.0</td>\n",
       "      <td>Los Angeles</td>\n",
       "      <td>3000.0</td>\n",
       "      <td>90049</td>\n",
       "      <td>3.0</td>\n",
       "      <td>CA</td>\n",
       "      <td>2895000.0</td>\n",
       "      <td>1961</td>\n",
       "      <td>4</td>\n",
       "    </tr>\n",
       "    <tr>\n",
       "      <th>3</th>\n",
       "      <td>activated</td>\n",
       "      <td>single family</td>\n",
       "      <td>8.0</td>\n",
       "      <td>Dallas</td>\n",
       "      <td>6457.0</td>\n",
       "      <td>75205</td>\n",
       "      <td>5.0</td>\n",
       "      <td>TX</td>\n",
       "      <td>2395000.0</td>\n",
       "      <td>2006</td>\n",
       "      <td>5</td>\n",
       "    </tr>\n",
       "    <tr>\n",
       "      <th>4</th>\n",
       "      <td>activated</td>\n",
       "      <td>townhouse</td>\n",
       "      <td>2.0</td>\n",
       "      <td>Philadelphia</td>\n",
       "      <td>897.0</td>\n",
       "      <td>19145</td>\n",
       "      <td>2.0</td>\n",
       "      <td>PA</td>\n",
       "      <td>209000.0</td>\n",
       "      <td>1920</td>\n",
       "      <td>3</td>\n",
       "    </tr>\n",
       "  </tbody>\n",
       "</table>\n",
       "</div>"
      ],
      "text/plain": [
       "      status   propertyType  baths            city    sqft zipcode  beds   \n",
       "0  activated  single family    3.0  Southern Pines  2900.0   28387   4.0  \\\n",
       "1  activated  single family    3.0  Spokane Valley  1947.0   99216   3.0   \n",
       "2  activated  single family    2.0     Los Angeles  3000.0   90049   3.0   \n",
       "3  activated  single family    8.0          Dallas  6457.0   75205   5.0   \n",
       "4  activated      townhouse    2.0    Philadelphia   897.0   19145   2.0   \n",
       "\n",
       "  state     target Year built  Period built  \n",
       "0    NC   418000.0       2019             5  \n",
       "1    WA   310000.0       2019             5  \n",
       "2    CA  2895000.0       1961             4  \n",
       "3    TX  2395000.0       2006             5  \n",
       "4    PA   209000.0       1920             3  "
      ]
     },
     "execution_count": 56,
     "metadata": {},
     "output_type": "execute_result"
    }
   ],
   "source": [
    "data['Period built'] = data['Year built'].apply(period_from_year)\n",
    "\n",
    "data.head()"
   ]
  },
  {
   "cell_type": "code",
   "execution_count": 57,
   "metadata": {},
   "outputs": [
    {
     "data": {
      "text/plain": [
       "37"
      ]
     },
     "metadata": {},
     "output_type": "display_data"
    }
   ],
   "source": [
    "display(data['state'].nunique())"
   ]
  },
  {
   "cell_type": "code",
   "execution_count": 58,
   "metadata": {},
   "outputs": [
    {
     "data": {
      "text/html": [
       "<div>\n",
       "<style scoped>\n",
       "    .dataframe tbody tr th:only-of-type {\n",
       "        vertical-align: middle;\n",
       "    }\n",
       "\n",
       "    .dataframe tbody tr th {\n",
       "        vertical-align: top;\n",
       "    }\n",
       "\n",
       "    .dataframe thead th {\n",
       "        text-align: right;\n",
       "    }\n",
       "</style>\n",
       "<table border=\"1\" class=\"dataframe\">\n",
       "  <thead>\n",
       "    <tr style=\"text-align: right;\">\n",
       "      <th></th>\n",
       "      <th>baths</th>\n",
       "      <th>sqft</th>\n",
       "      <th>beds</th>\n",
       "      <th>target</th>\n",
       "      <th>Period built</th>\n",
       "    </tr>\n",
       "  </thead>\n",
       "  <tbody>\n",
       "    <tr>\n",
       "      <th>count</th>\n",
       "      <td>315088.000000</td>\n",
       "      <td>315088.000000</td>\n",
       "      <td>315088.000000</td>\n",
       "      <td>3.150880e+05</td>\n",
       "      <td>315088.000000</td>\n",
       "    </tr>\n",
       "    <tr>\n",
       "      <th>mean</th>\n",
       "      <td>2.572507</td>\n",
       "      <td>2189.806245</td>\n",
       "      <td>3.288859</td>\n",
       "      <td>6.383304e+05</td>\n",
       "      <td>3.950014</td>\n",
       "    </tr>\n",
       "    <tr>\n",
       "      <th>std</th>\n",
       "      <td>1.289733</td>\n",
       "      <td>1512.986531</td>\n",
       "      <td>1.247687</td>\n",
       "      <td>1.593972e+06</td>\n",
       "      <td>1.217564</td>\n",
       "    </tr>\n",
       "    <tr>\n",
       "      <th>min</th>\n",
       "      <td>1.000000</td>\n",
       "      <td>100.000000</td>\n",
       "      <td>0.000000</td>\n",
       "      <td>7.000000e+02</td>\n",
       "      <td>0.000000</td>\n",
       "    </tr>\n",
       "    <tr>\n",
       "      <th>25%</th>\n",
       "      <td>2.000000</td>\n",
       "      <td>1300.000000</td>\n",
       "      <td>3.000000</td>\n",
       "      <td>2.150000e+05</td>\n",
       "      <td>4.000000</td>\n",
       "    </tr>\n",
       "    <tr>\n",
       "      <th>50%</th>\n",
       "      <td>2.000000</td>\n",
       "      <td>1839.000000</td>\n",
       "      <td>3.000000</td>\n",
       "      <td>3.399000e+05</td>\n",
       "      <td>4.000000</td>\n",
       "    </tr>\n",
       "    <tr>\n",
       "      <th>75%</th>\n",
       "      <td>3.000000</td>\n",
       "      <td>2614.000000</td>\n",
       "      <td>4.000000</td>\n",
       "      <td>5.950000e+05</td>\n",
       "      <td>5.000000</td>\n",
       "    </tr>\n",
       "    <tr>\n",
       "      <th>max</th>\n",
       "      <td>60.000000</td>\n",
       "      <td>28660.000000</td>\n",
       "      <td>78.000000</td>\n",
       "      <td>1.650000e+08</td>\n",
       "      <td>5.000000</td>\n",
       "    </tr>\n",
       "  </tbody>\n",
       "</table>\n",
       "</div>"
      ],
      "text/plain": [
       "               baths           sqft           beds        target   \n",
       "count  315088.000000  315088.000000  315088.000000  3.150880e+05  \\\n",
       "mean        2.572507    2189.806245       3.288859  6.383304e+05   \n",
       "std         1.289733    1512.986531       1.247687  1.593972e+06   \n",
       "min         1.000000     100.000000       0.000000  7.000000e+02   \n",
       "25%         2.000000    1300.000000       3.000000  2.150000e+05   \n",
       "50%         2.000000    1839.000000       3.000000  3.399000e+05   \n",
       "75%         3.000000    2614.000000       4.000000  5.950000e+05   \n",
       "max        60.000000   28660.000000      78.000000  1.650000e+08   \n",
       "\n",
       "        Period built  \n",
       "count  315088.000000  \n",
       "mean        3.950014  \n",
       "std         1.217564  \n",
       "min         0.000000  \n",
       "25%         4.000000  \n",
       "50%         4.000000  \n",
       "75%         5.000000  \n",
       "max         5.000000  "
      ]
     },
     "execution_count": 58,
     "metadata": {},
     "output_type": "execute_result"
    }
   ],
   "source": [
    "data.describe()"
   ]
  },
  {
   "cell_type": "code",
   "execution_count": 59,
   "metadata": {},
   "outputs": [
    {
     "data": {
      "image/png": "[encoded data removed]",
      "text/plain": [
       "<Figure size 1500x400 with 2 Axes>"
      ]
     },
     "metadata": {},
     "output_type": "display_data"
    }
   ],
   "source": [
    "fig, axes = plt.subplots(nrows=1, ncols=2, figsize=(15, 4))\n",
    "histplot = sns.histplot(data=data, x='baths', ax=axes[0]);\n",
    "histplot.set_title('Baths count');\n",
    "boxplot = sns.boxplot(data=data, x='baths', ax=axes[1]);\n",
    "boxplot.set_title('Baths count Boxplot');"
   ]
  },
  {
   "cell_type": "code",
   "execution_count": 60,
   "metadata": {},
   "outputs": [
    {
     "data": {
      "image/png": "[encoded data removed]",
      "text/plain": [
       "<Figure size 1500x400 with 2 Axes>"
      ]
     },
     "metadata": {},
     "output_type": "display_data"
    }
   ],
   "source": [
    "fig, axes = plt.subplots(nrows=1, ncols=2, figsize=(15, 4))\n",
    "histplot = sns.histplot(data=data, x='sqft', ax=axes[0]);\n",
    "histplot.set_title('Sqft');\n",
    "boxplot = sns.boxplot(data=data, x='sqft', ax=axes[1]);\n",
    "boxplot.set_title('Sqft Boxplot');"
   ]
  },
  {
   "cell_type": "code",
   "execution_count": 61,
   "metadata": {},
   "outputs": [
    {
     "data": {
      "image/png": "[encoded data removed]",
      "text/plain": [
       "<Figure size 1500x400 with 2 Axes>"
      ]
     },
     "metadata": {},
     "output_type": "display_data"
    }
   ],
   "source": [
    "fig, axes = plt.subplots(nrows=1, ncols=2, figsize=(15, 4))\n",
    "histplot = sns.histplot(data=data, x='beds', ax=axes[0]);\n",
    "histplot.set_title('Beds count');\n",
    "boxplot = sns.boxplot(data=data, x='beds', ax=axes[1]);\n",
    "boxplot.set_title('Beds Boxplot');"
   ]
  },
  {
   "cell_type": "code",
   "execution_count": 62,
   "metadata": {},
   "outputs": [
    {
     "data": {
      "image/png": "[encoded data removed]",
      "text/plain": [
       "<Figure size 1500x400 with 2 Axes>"
      ]
     },
     "metadata": {},
     "output_type": "display_data"
    }
   ],
   "source": [
    "fig, axes = plt.subplots(nrows=1, ncols=2, figsize=(15, 4))\n",
    "histplot = sns.histplot(data=data, x='target', ax=axes[0]);\n",
    "histplot.set_title('Target count');\n",
    "boxplot = sns.boxplot(data=data, x='target', ax=axes[1]);\n",
    "boxplot.set_title('Target Boxplot');"
   ]
  },
  {
   "cell_type": "markdown",
   "metadata": {},
   "source": [
    "## 3. Очистка данных от выбросов методом z-отклонений"
   ]
  },
  {
   "cell_type": "code",
   "execution_count": 63,
   "metadata": {},
   "outputs": [],
   "source": [
    "def outliers_z_score_mod(data, feature, log_scale=False, left=3, right=3):\n",
    "    if log_scale:\n",
    "        x = np.log(data[feature]+1)\n",
    "    else:\n",
    "        x = data[feature]\n",
    "    mu = x.mean()\n",
    "    sigma = x.std()\n",
    "    lower_bound = mu - left * sigma\n",
    "    upper_bound = mu + right * sigma\n",
    "    outliers = data[(x < lower_bound) | (x > upper_bound)]\n",
    "    cleaned = data[(x > lower_bound) & (x < upper_bound)]\n",
    "    return outliers, cleaned"
   ]
  },
  {
   "cell_type": "code",
   "execution_count": 64,
   "metadata": {},
   "outputs": [
    {
     "name": "stdout",
     "output_type": "stream",
     "text": [
      "Число выбросов по методу z-отклонения: 2281\n",
      "Результирующее число записей: 312807\n"
     ]
    }
   ],
   "source": [
    "outliers, data = outliers_z_score_mod(data, 'sqft', log_scale=True)\n",
    "print(f'Число выбросов по методу z-отклонения: {outliers.shape[0]}')\n",
    "print(f'Результирующее число записей: {data.shape[0]}')"
   ]
  },
  {
   "cell_type": "code",
   "execution_count": 65,
   "metadata": {},
   "outputs": [
    {
     "name": "stdout",
     "output_type": "stream",
     "text": [
      "Число выбросов по методу z-отклонения: 3699\n",
      "Результирующее число записей: 309108\n"
     ]
    }
   ],
   "source": [
    "outliers, data = outliers_z_score_mod(data, 'baths', log_scale=True)\n",
    "print(f'Число выбросов по методу z-отклонения: {outliers.shape[0]}')\n",
    "print(f'Результирующее число записей: {data.shape[0]}')"
   ]
  },
  {
   "cell_type": "code",
   "execution_count": 66,
   "metadata": {},
   "outputs": [
    {
     "name": "stdout",
     "output_type": "stream",
     "text": [
      "Число выбросов по методу z-отклонения: 2307\n",
      "Результирующее число записей: 306801\n"
     ]
    }
   ],
   "source": [
    "outliers, data = outliers_z_score_mod(data, 'beds', log_scale=True)\n",
    "print(f'Число выбросов по методу z-отклонения: {outliers.shape[0]}')\n",
    "print(f'Результирующее число записей: {data.shape[0]}')"
   ]
  },
  {
   "cell_type": "code",
   "execution_count": 67,
   "metadata": {},
   "outputs": [
    {
     "name": "stdout",
     "output_type": "stream",
     "text": [
      "Число выбросов по методу z-отклонения: 3679\n",
      "Результирующее число записей: 303122\n"
     ]
    }
   ],
   "source": [
    "outliers, data = outliers_z_score_mod(data, 'target', log_scale=True)\n",
    "print(f'Число выбросов по методу z-отклонения: {outliers.shape[0]}')\n",
    "print(f'Результирующее число записей: {data.shape[0]}')"
   ]
  },
  {
   "cell_type": "code",
   "execution_count": 68,
   "metadata": {},
   "outputs": [
    {
     "data": {
      "image/png": "[encoded data removed]",
      "text/plain": [
       "<Figure size 1500x400 with 2 Axes>"
      ]
     },
     "metadata": {},
     "output_type": "display_data"
    }
   ],
   "source": [
    "fig, axes = plt.subplots(nrows=1, ncols=2, figsize=(15, 4))\n",
    "histplot = sns.histplot(data=data, x='sqft', ax=axes[0]);\n",
    "histplot.set_title('Sqft');\n",
    "boxplot = sns.boxplot(data=data, x='sqft', ax=axes[1]);\n",
    "boxplot.set_title('Sqft Boxplot');"
   ]
  },
  {
   "cell_type": "code",
   "execution_count": 69,
   "metadata": {},
   "outputs": [
    {
     "data": {
      "text/plain": [
       "'Number of duplicates: 15241'"
      ]
     },
     "metadata": {},
     "output_type": "display_data"
    }
   ],
   "source": [
    "display('Number of duplicates: {}'.format(data.duplicated().sum()))"
   ]
  },
  {
   "cell_type": "code",
   "execution_count": 70,
   "metadata": {},
   "outputs": [
    {
     "data": {
      "text/plain": [
       "'Shape of data: (287881, 11)'"
      ]
     },
     "metadata": {},
     "output_type": "display_data"
    }
   ],
   "source": [
    "# удалим дубликаты\n",
    "data = data.drop_duplicates().reset_index(drop=True)\n",
    "\n",
    "display('Shape of data: {}'.format(data.shape))"
   ]
  },
  {
   "cell_type": "markdown",
   "metadata": {},
   "source": [
    "## 4. Проверка на мультиколлениарность и кодирование признаков"
   ]
  },
  {
   "cell_type": "code",
   "execution_count": 71,
   "metadata": {},
   "outputs": [
    {
     "data": {
      "text/plain": [
       "<Axes: >"
      ]
     },
     "execution_count": 71,
     "metadata": {},
     "output_type": "execute_result"
    },
    {
     "data": {
      "image/png": "[encoded data removed]",
      "text/plain": [
       "<Figure size 640x480 with 2 Axes>"
      ]
     },
     "metadata": {},
     "output_type": "display_data"
    }
   ],
   "source": [
    "# проверим числовые признаки на мультиколлениарность\n",
    "sns.heatmap(data.corr(numeric_only=True), annot=True)"
   ]
  },
  {
   "cell_type": "markdown",
   "metadata": {},
   "source": [
    "Коллинеарности выше 70% не обнаружено."
   ]
  },
  {
   "cell_type": "markdown",
   "metadata": {},
   "source": [
    "Закодируем признаки status, propertyType однократным кодированием, а state - бинарным. "
   ]
  },
  {
   "cell_type": "code",
   "execution_count": 72,
   "metadata": {},
   "outputs": [
    {
     "data": {
      "text/html": [
       "<div>\n",
       "<style scoped>\n",
       "    .dataframe tbody tr th:only-of-type {\n",
       "        vertical-align: middle;\n",
       "    }\n",
       "\n",
       "    .dataframe tbody tr th {\n",
       "        vertical-align: top;\n",
       "    }\n",
       "\n",
       "    .dataframe thead th {\n",
       "        text-align: right;\n",
       "    }\n",
       "</style>\n",
       "<table border=\"1\" class=\"dataframe\">\n",
       "  <thead>\n",
       "    <tr style=\"text-align: right;\">\n",
       "      <th></th>\n",
       "      <th>baths</th>\n",
       "      <th>city</th>\n",
       "      <th>sqft</th>\n",
       "      <th>zipcode</th>\n",
       "      <th>beds</th>\n",
       "      <th>state</th>\n",
       "      <th>target</th>\n",
       "      <th>Year built</th>\n",
       "      <th>Period built</th>\n",
       "      <th>status_activated</th>\n",
       "      <th>...</th>\n",
       "      <th>propertyType_single detached</th>\n",
       "      <th>propertyType_single family</th>\n",
       "      <th>propertyType_townhouse</th>\n",
       "      <th>propertyType_traditional</th>\n",
       "      <th>state_0</th>\n",
       "      <th>state_1</th>\n",
       "      <th>state_2</th>\n",
       "      <th>state_3</th>\n",
       "      <th>state_4</th>\n",
       "      <th>state_5</th>\n",
       "    </tr>\n",
       "  </thead>\n",
       "  <tbody>\n",
       "    <tr>\n",
       "      <th>0</th>\n",
       "      <td>3.0</td>\n",
       "      <td>Southern Pines</td>\n",
       "      <td>2900.0</td>\n",
       "      <td>28387</td>\n",
       "      <td>4.0</td>\n",
       "      <td>NC</td>\n",
       "      <td>418000.0</td>\n",
       "      <td>2019</td>\n",
       "      <td>5</td>\n",
       "      <td>True</td>\n",
       "      <td>...</td>\n",
       "      <td>False</td>\n",
       "      <td>True</td>\n",
       "      <td>False</td>\n",
       "      <td>False</td>\n",
       "      <td>0</td>\n",
       "      <td>0</td>\n",
       "      <td>0</td>\n",
       "      <td>0</td>\n",
       "      <td>0</td>\n",
       "      <td>1</td>\n",
       "    </tr>\n",
       "    <tr>\n",
       "      <th>1</th>\n",
       "      <td>3.0</td>\n",
       "      <td>Spokane Valley</td>\n",
       "      <td>1947.0</td>\n",
       "      <td>99216</td>\n",
       "      <td>3.0</td>\n",
       "      <td>WA</td>\n",
       "      <td>310000.0</td>\n",
       "      <td>2019</td>\n",
       "      <td>5</td>\n",
       "      <td>True</td>\n",
       "      <td>...</td>\n",
       "      <td>False</td>\n",
       "      <td>True</td>\n",
       "      <td>False</td>\n",
       "      <td>False</td>\n",
       "      <td>0</td>\n",
       "      <td>0</td>\n",
       "      <td>0</td>\n",
       "      <td>0</td>\n",
       "      <td>1</td>\n",
       "      <td>0</td>\n",
       "    </tr>\n",
       "    <tr>\n",
       "      <th>2</th>\n",
       "      <td>2.0</td>\n",
       "      <td>Los Angeles</td>\n",
       "      <td>3000.0</td>\n",
       "      <td>90049</td>\n",
       "      <td>3.0</td>\n",
       "      <td>CA</td>\n",
       "      <td>2895000.0</td>\n",
       "      <td>1961</td>\n",
       "      <td>4</td>\n",
       "      <td>True</td>\n",
       "      <td>...</td>\n",
       "      <td>False</td>\n",
       "      <td>True</td>\n",
       "      <td>False</td>\n",
       "      <td>False</td>\n",
       "      <td>0</td>\n",
       "      <td>0</td>\n",
       "      <td>0</td>\n",
       "      <td>0</td>\n",
       "      <td>1</td>\n",
       "      <td>1</td>\n",
       "    </tr>\n",
       "    <tr>\n",
       "      <th>3</th>\n",
       "      <td>2.0</td>\n",
       "      <td>Philadelphia</td>\n",
       "      <td>897.0</td>\n",
       "      <td>19145</td>\n",
       "      <td>2.0</td>\n",
       "      <td>PA</td>\n",
       "      <td>209000.0</td>\n",
       "      <td>1920</td>\n",
       "      <td>3</td>\n",
       "      <td>True</td>\n",
       "      <td>...</td>\n",
       "      <td>False</td>\n",
       "      <td>False</td>\n",
       "      <td>True</td>\n",
       "      <td>False</td>\n",
       "      <td>0</td>\n",
       "      <td>0</td>\n",
       "      <td>0</td>\n",
       "      <td>1</td>\n",
       "      <td>0</td>\n",
       "      <td>0</td>\n",
       "    </tr>\n",
       "    <tr>\n",
       "      <th>4</th>\n",
       "      <td>2.0</td>\n",
       "      <td>POINCIANA</td>\n",
       "      <td>1507.0</td>\n",
       "      <td>34759</td>\n",
       "      <td>3.0</td>\n",
       "      <td>FL</td>\n",
       "      <td>181500.0</td>\n",
       "      <td>2006</td>\n",
       "      <td>5</td>\n",
       "      <td>True</td>\n",
       "      <td>...</td>\n",
       "      <td>False</td>\n",
       "      <td>False</td>\n",
       "      <td>False</td>\n",
       "      <td>False</td>\n",
       "      <td>0</td>\n",
       "      <td>0</td>\n",
       "      <td>0</td>\n",
       "      <td>1</td>\n",
       "      <td>0</td>\n",
       "      <td>1</td>\n",
       "    </tr>\n",
       "  </tbody>\n",
       "</table>\n",
       "<p>5 rows × 40 columns</p>\n",
       "</div>"
      ],
      "text/plain": [
       "   baths            city    sqft zipcode  beds state     target Year built   \n",
       "0    3.0  Southern Pines  2900.0   28387   4.0    NC   418000.0       2019  \\\n",
       "1    3.0  Spokane Valley  1947.0   99216   3.0    WA   310000.0       2019   \n",
       "2    2.0     Los Angeles  3000.0   90049   3.0    CA  2895000.0       1961   \n",
       "3    2.0    Philadelphia   897.0   19145   2.0    PA   209000.0       1920   \n",
       "4    2.0       POINCIANA  1507.0   34759   3.0    FL   181500.0       2006   \n",
       "\n",
       "   Period built  status_activated  ...  propertyType_single detached   \n",
       "0             5              True  ...                         False  \\\n",
       "1             5              True  ...                         False   \n",
       "2             4              True  ...                         False   \n",
       "3             3              True  ...                         False   \n",
       "4             5              True  ...                         False   \n",
       "\n",
       "   propertyType_single family  propertyType_townhouse   \n",
       "0                        True                   False  \\\n",
       "1                        True                   False   \n",
       "2                        True                   False   \n",
       "3                       False                    True   \n",
       "4                       False                   False   \n",
       "\n",
       "   propertyType_traditional  state_0  state_1  state_2  state_3  state_4   \n",
       "0                     False        0        0        0        0        0  \\\n",
       "1                     False        0        0        0        0        1   \n",
       "2                     False        0        0        0        0        1   \n",
       "3                     False        0        0        0        1        0   \n",
       "4                     False        0        0        0        1        0   \n",
       "\n",
       "   state_5  \n",
       "0        1  \n",
       "1        0  \n",
       "2        1  \n",
       "3        0  \n",
       "4        1  \n",
       "\n",
       "[5 rows x 40 columns]"
      ]
     },
     "execution_count": 72,
     "metadata": {},
     "output_type": "execute_result"
    }
   ],
   "source": [
    "data = pd.get_dummies(data, columns=['status','propertyType']) #однократное кодирование\n",
    "\n",
    "#бинарное кодирование\n",
    "bin_encoder = ce.BinaryEncoder(cols=['state']) # указываем столбец для кодирования\n",
    "type_bin = bin_encoder.fit_transform(data['state'])\n",
    "data = pd.concat([data, type_bin], axis=1)\n",
    "\n",
    "data.head()"
   ]
  },
  {
   "cell_type": "code",
   "execution_count": 73,
   "metadata": {},
   "outputs": [
    {
     "data": {
      "text/plain": [
       "'Количество признаков в данных: 36'"
      ]
     },
     "metadata": {},
     "output_type": "display_data"
    },
    {
     "data": {
      "text/plain": [
       "'Количество наблюдений: 287881'"
      ]
     },
     "metadata": {},
     "output_type": "display_data"
    }
   ],
   "source": [
    "# удаляем стобцы типа object\n",
    "\n",
    "cols_del = data.select_dtypes('object').columns.to_list()\n",
    "\n",
    "data = data.drop(cols_del, axis=1)\n",
    "\n",
    "display('Количество признаков в данных: {}'.format(data.shape[1]))\n",
    "display('Количество наблюдений: {}'.format(data.shape[0]))"
   ]
  },
  {
   "cell_type": "markdown",
   "metadata": {},
   "source": [
    "## 5. Построение модели линейной регрессии для предсказания стоимости объектов недвижимости"
   ]
  },
  {
   "cell_type": "code",
   "execution_count": 74,
   "metadata": {},
   "outputs": [],
   "source": [
    "y = data['target']\n",
    "X = data.drop(['target'], axis=1)"
   ]
  },
  {
   "cell_type": "code",
   "execution_count": 75,
   "metadata": {},
   "outputs": [],
   "source": [
    "X_train, X_test, y_train, y_test = train_test_split(X, y, test_size=0.2, shuffle=True, random_state=42)"
   ]
  },
  {
   "cell_type": "code",
   "execution_count": 77,
   "metadata": {},
   "outputs": [],
   "source": [
    "scaler = preprocessing.MinMaxScaler() #создаем объект для нормализации\n",
    "scaler.fit(X_train) #рассчитываем параметры нормализации (fit) на тренировочной выборке\n",
    "\n",
    "#производим преобразование для каждой из выборок\n",
    "X_train_scaled = scaler.transform(X_train)\n",
    "X_test_scaled = scaler.transform(X_test)\n",
    "\n",
    "#Создаем объект для генерации полиномиальных признаков степени 2\n",
    "poly = preprocessing.PolynomialFeatures(degree=2, include_bias=False)\n",
    "#Вычисляем параметры генерации - результирующее количество признак\n",
    "poly.fit(X_train_scaled)\n",
    "#Производим преобразование для каждой из выборок\n",
    "X_train_scaled_poly = poly.transform(X_train_scaled)\n",
    "X_test_scaled_poly = poly.transform(X_test_scaled)"
   ]
  },
  {
   "cell_type": "code",
   "execution_count": 78,
   "metadata": {},
   "outputs": [
    {
     "name": "stdout",
     "output_type": "stream",
     "text": [
      "Test R2 score:0.506\n",
      "Train R2 score: 0.497\n"
     ]
    }
   ],
   "source": [
    "#Создаем объект класса линейная регрессия с L1-регуляризацией\n",
    "#Выставляем параметр alpha используйте значение по умолчанию, параметр max_iter установите в значение 2000\n",
    "lasso_lr = linear_model.Lasso(max_iter=2000)\n",
    "#Обучаем модель предсказывать логарифм целевого признака\n",
    "lasso_lr.fit(X_train_scaled_poly, y_train)\n",
    "#Делаем предсказание для каждой из выборок\n",
    "#Если обучили на логарифме, то от результата необходимо взять обратную функцию - экспоненту\n",
    "y_train_pred = lasso_lr.predict(X_train_scaled_poly)\n",
    "y_test_pred = lasso_lr.predict(X_test_scaled_poly)\n",
    "\n",
    "print('Test R2 score:{:.3f}'.format(metrics.r2_score(y_test, y_test_pred)))\n",
    "print('Train R2 score: {:.3F}'.format(metrics.r2_score(y_train, y_train_pred)))\n"
   ]
  },
  {
   "cell_type": "code",
   "execution_count": 79,
   "metadata": {},
   "outputs": [
    {
     "name": "stdout",
     "output_type": "stream",
     "text": [
      "Test R2 score:0.539\n",
      "Train R2 score: 0.571\n"
     ]
    }
   ],
   "source": [
    "# Создаем модель случайного леса из 10 деревьев с максимальной глубиной 10 для каждого дерева \n",
    "regr = RandomForestRegressor(max_depth=10, n_estimators=10, random_state=42)\n",
    "# Обучаем модель\n",
    "regr.fit(X_train, y_train)\n",
    "\n",
    "# Формируем предсказания каждой из моделей\n",
    "y_test_pred_for = regr.predict(X_test)\n",
    "y_train_pred_for = regr.predict(X_train)\n",
    "\n",
    "print('Test R2 score:{:.3f}'.format(metrics.r2_score(y_test, y_test_pred_for)))\n",
    "print('Train R2 score: {:.3F}'.format(metrics.r2_score(y_train, y_train_pred_for)))\n"
   ]
  },
  {
   "cell_type": "code",
   "execution_count": 80,
   "metadata": {},
   "outputs": [
    {
     "name": "stdout",
     "output_type": "stream",
     "text": [
      "Test R2 score:0.560\n",
      "Train R2 score: 0.600\n"
     ]
    }
   ],
   "source": [
    "# Создаем модель случайного леса из 10 деревьев с максимальной глубиной 10 для каждого дерева \n",
    "regr1 = RandomForestRegressor(max_depth=10, n_estimators=10, random_state=42)\n",
    "# Обучаем модель\n",
    "regr1.fit(X_train_scaled_poly, y_train)\n",
    "\n",
    "# Формируем предсказания\n",
    "y_train_pred1 = regr1.predict(X_train_scaled_poly)\n",
    "y_test_pred1 = regr1.predict(X_test_scaled_poly)\n",
    "\n",
    "print('Test R2 score:{:.3f}'.format(metrics.r2_score(y_test, y_test_pred1)))\n",
    "print('Train R2 score: {:.3F}'.format(metrics.r2_score(y_train, y_train_pred1)))\n",
    " "
   ]
  },
  {
   "cell_type": "code",
   "execution_count": 81,
   "metadata": {},
   "outputs": [],
   "source": [
    "import pickle\n",
    "\n",
    "# Сохранение выбранной обученной модели в файл pickle\n",
    "with open('model/dp_model.pkl', 'wb') as output:\n",
    "    pickle.dump(regr1, output)"
   ]
  }
 ],
 "metadata": {
  "kernelspec": {
   "display_name": "Python 3",
   "language": "python",
   "name": "python3"
  },
  "language_info": {
   "codemirror_mode": {
    "name": "ipython",
    "version": 3
   },
   "file_extension": ".py",
   "mimetype": "text/x-python",
   "name": "python",
   "nbconvert_exporter": "python",
   "pygments_lexer": "ipython3",
   "version": "3.10.12"
  }
 },
 "nbformat": 4,
 "nbformat_minor": 2
}
